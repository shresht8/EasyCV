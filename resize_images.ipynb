{
 "cells": [
  {
   "cell_type": "code",
   "execution_count": 1,
   "id": "initial_id",
   "metadata": {
    "collapsed": true,
    "ExecuteTime": {
     "end_time": "2023-10-23T11:47:21.568461Z",
     "start_time": "2023-10-23T11:47:20.993022800Z"
    }
   },
   "outputs": [],
   "source": [
    "from PIL import Image\n",
    "\n",
    "def resize_image(input_path, output_path, new_width, new_height):\n",
    "    try:\n",
    "        # Open the image file\n",
    "        with Image.open(input_path) as img:\n",
    "            # Resize the image with a specified resampling filter (e.g., BILINEAR)\n",
    "            resized_image = img.resize((new_width, new_height), Image.BILINEAR)\n",
    "\n",
    "            # Save the resized image\n",
    "            resized_image.save(output_path)\n",
    "            print(f\"Image resized and saved to {output_path}\")\n",
    "\n",
    "    except Exception as e:\n",
    "        print(f\"Error: {e}\")\n",
    "\n",
    "# Usage\n",
    "# input_image_path = \"input.jpg\"  # Replace with the path to your input image\n",
    "# output_image_path = \"output.jpg\"  # Replace with the path where you want to save the resized image\n",
    "# new_width = 800  # Desired width\n",
    "# new_height = 600  # Desired height\n",
    "# \n",
    "# resize_image(input_image_path, output_image_path, new_width, new_height)\n"
   ]
  },
  {
   "cell_type": "code",
   "execution_count": 3,
   "outputs": [
    {
     "name": "stdout",
     "output_type": "stream",
     "text": [
      "Image resized and saved to ./CV_Template_2/qnb_logo.png\n",
      "Image resized and saved to ./CV_Template_2/qatar_media_corporation.jpg\n",
      "Image resized and saved to ./CV_Template_2/uni_bradford.png\n",
      "Image resized and saved to ./CV_Template_2/mumbai_uni.jpg\n"
     ]
    }
   ],
   "source": [
    "image_list = ['./CV_Template_2/qnb_logo.png','./CV_Template_2/qatar_media_corporation.jpg','./CV_Template_2/uni_bradford.png','./CV_Template_2/mumbai_uni.jpg']\n",
    "for image in image_list:\n",
    "    new_height = 225\n",
    "    new_width = 225\n",
    "    output_image_path = image\n",
    "    resize_image(image,output_image_path,new_width,new_height)"
   ],
   "metadata": {
    "collapsed": false,
    "ExecuteTime": {
     "end_time": "2023-10-23T11:48:14.495271400Z",
     "start_time": "2023-10-23T11:48:14.463104Z"
    }
   },
   "id": "81866c532ede2160"
  },
  {
   "cell_type": "code",
   "execution_count": 6,
   "outputs": [
    {
     "name": "stdout",
     "output_type": "stream",
     "text": [
      "Image resized and saved to ./CV_Template_2/shresht_photo.jpg\n"
     ]
    }
   ],
   "source": [
    "image = './CV_Template_2/shresht_photo.jpg'\n",
    "new_height = 600\n",
    "new_width = 800\n",
    "output_image_path = image\n",
    "resize_image(image,output_image_path,new_width,new_height)"
   ],
   "metadata": {
    "collapsed": false,
    "ExecuteTime": {
     "end_time": "2023-10-16T11:33:44.701699Z",
     "start_time": "2023-10-16T11:33:44.639702900Z"
    }
   },
   "id": "f47280c414ca628b"
  },
  {
   "cell_type": "code",
   "execution_count": null,
   "outputs": [],
   "source": [],
   "metadata": {
    "collapsed": false
   },
   "id": "1b2001a26b036f72"
  }
 ],
 "metadata": {
  "kernelspec": {
   "name": "reviewanalysis",
   "language": "python",
   "display_name": "ReviewAnalysis"
  },
  "language_info": {
   "codemirror_mode": {
    "name": "ipython",
    "version": 2
   },
   "file_extension": ".py",
   "mimetype": "text/x-python",
   "name": "python",
   "nbconvert_exporter": "python",
   "pygments_lexer": "ipython2",
   "version": "2.7.6"
  }
 },
 "nbformat": 4,
 "nbformat_minor": 5
}
