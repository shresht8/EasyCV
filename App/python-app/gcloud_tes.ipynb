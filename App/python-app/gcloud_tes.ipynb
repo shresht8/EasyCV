{
 "cells": [
  {
   "cell_type": "code",
   "execution_count": 1,
   "outputs": [],
   "source": [
    "from google.auth import default\n",
    "from google.cloud import storage\n",
    "# Get the credentials object\n",
    "credentials, project = default()\n",
    "\n",
    "# Create a GCS client object\n",
    "# client = storage.Client(credentials=credentials, project=project)\n"
   ],
   "metadata": {
    "collapsed": false,
    "ExecuteTime": {
     "end_time": "2024-09-07T06:16:00.901461Z",
     "start_time": "2024-09-07T06:16:00.409133400Z"
    }
   },
   "id": "initial_id"
  },
  {
   "cell_type": "code",
   "execution_count": 2,
   "outputs": [],
   "source": [
    "from google.cloud import storage\n",
    "\n",
    "client = storage.Client(credentials=credentials,project='KeyProject')"
   ],
   "metadata": {
    "collapsed": false,
    "ExecuteTime": {
     "end_time": "2024-09-07T06:16:05.896968900Z",
     "start_time": "2024-09-07T06:16:05.892968Z"
    }
   },
   "id": "caec2ba7094ed2fe"
  },
  {
   "cell_type": "code",
   "execution_count": 3,
   "outputs": [
    {
     "data": {
      "text/plain": "<google.auth.impersonated_credentials.Credentials at 0x25e6782b910>"
     },
     "execution_count": 3,
     "metadata": {},
     "output_type": "execute_result"
    }
   ],
   "source": [
    "credentials"
   ],
   "metadata": {
    "collapsed": false,
    "ExecuteTime": {
     "end_time": "2024-09-07T06:16:11.096525200Z",
     "start_time": "2024-09-07T06:16:11.078525700Z"
    }
   },
   "id": "1bc63795d5f25cab"
  },
  {
   "cell_type": "code",
   "execution_count": 4,
   "outputs": [
    {
     "data": {
      "text/plain": "<google.cloud.storage.client.Client at 0x25e6782b670>"
     },
     "execution_count": 4,
     "metadata": {},
     "output_type": "execute_result"
    }
   ],
   "source": [
    "client"
   ],
   "metadata": {
    "collapsed": false,
    "ExecuteTime": {
     "end_time": "2024-09-07T06:16:17.660132300Z",
     "start_time": "2024-09-07T06:16:17.642963800Z"
    }
   },
   "id": "77e403001c333905"
  },
  {
   "cell_type": "code",
   "execution_count": 5,
   "outputs": [
    {
     "name": "stdout",
     "output_type": "stream",
     "text": [
      "bucket not found\n"
     ]
    }
   ],
   "source": [
    "try:\n",
    "    bucket = client.get_bucket(\"easy-cv-bucket-2\")\n",
    "except Exception as e:\n",
    "    print(\"bucket not found\")\n"
   ],
   "metadata": {
    "collapsed": false,
    "ExecuteTime": {
     "end_time": "2024-09-07T06:16:22.820044900Z",
     "start_time": "2024-09-07T06:16:20.792635800Z"
    }
   },
   "id": "dae080b444a30c55"
  },
  {
   "cell_type": "code",
   "execution_count": 6,
   "outputs": [
    {
     "name": "stdout",
     "output_type": "stream",
     "text": [
      "cl_templates/\n",
      "cl_templates/cl_template_1/\n",
      "cl_templates/cl_template_1/chd.png\n",
      "cl_templates/cl_template_1/main.tex\n",
      "cl_templates/cl_template_2/\n",
      "cl_templates/cl_template_2/main.tex\n",
      "cl_templates/cl_template_2/nyu_short_color.png\n",
      "cl_templates/cl_template_3/\n",
      "cl_templates/cl_template_3/Cambria.ttf\n",
      "cl_templates/cl_template_3/CambriaBold.ttf\n",
      "cl_templates/cl_template_3/CambriaBoldItalic.ttf\n",
      "cl_templates/cl_template_3/CambriaItalic.ttf\n",
      "cl_templates/cl_template_3/OSUletter.cls\n",
      "cl_templates/cl_template_3/main.tex\n",
      "cl_templates/cl_template_4/\n",
      "cl_templates/cl_template_4/body.tex\n",
      "cl_templates/cl_template_4/info.tex\n",
      "cl_templates/cl_template_4/main.tex\n",
      "cl_templates/cl_template_4/sig.png\n",
      "cl_templates/cl_template_5/\n",
      "cl_templates/cl_template_5/Olin_Logo.jpg\n",
      "cl_templates/cl_template_5/main.tex\n",
      "cv_templates/\n",
      "cv_templates/cv_template_1/\n",
      "cv_templates/cv_template_1/bubblecv.sty\n",
      "cv_templates/cv_template_1/cv_prompt.txt\n",
      "cv_templates/cv_template_1/main.tex\n",
      "cv_templates/cv_template_1/resources/avatar.png\n",
      "cv_templates/cv_template_1/resources/contact.png\n",
      "cv_templates/cv_template_1/resources/cv.png\n",
      "cv_templates/cv_template_1/resources/education.png\n",
      "cv_templates/cv_template_1/resources/languages.png\n",
      "cv_templates/cv_template_1/resources/person.png\n",
      "cv_templates/cv_template_1/resources/publications.png\n",
      "cv_templates/cv_template_1/resources/shresht_photo.jpg\n",
      "cv_templates/cv_template_1/resources/skills.png\n",
      "cv_templates/cv_template_1/resources/summary.png\n",
      "cv_templates/cv_template_1/resources/target.png\n",
      "cv_templates/cv_template_1/resources/work.png\n",
      "cv_templates/cv_template_10/\n",
      "cv_templates/cv_template_11/\n",
      "cv_templates/cv_template_11/cv_prompt.txt\n",
      "cv_templates/cv_template_11/deedy-resume-reversed.cls\n",
      "cv_templates/cv_template_11/fonts/lato/Lato-Bla.ttf\n",
      "cv_templates/cv_template_11/fonts/lato/Lato-BlaIta.ttf\n",
      "cv_templates/cv_template_11/fonts/lato/Lato-Bol.ttf\n",
      "cv_templates/cv_template_11/fonts/lato/Lato-BolIta.ttf\n",
      "cv_templates/cv_template_11/fonts/lato/Lato-Hai.ttf\n",
      "cv_templates/cv_template_11/fonts/lato/Lato-HaiIta.ttf\n",
      "cv_templates/cv_template_11/fonts/lato/Lato-Lig.ttf\n",
      "cv_templates/cv_template_11/fonts/lato/Lato-LigIta.ttf\n",
      "cv_templates/cv_template_11/fonts/lato/Lato-Reg.ttf\n",
      "cv_templates/cv_template_11/fonts/lato/Lato-RegIta.ttf\n",
      "cv_templates/cv_template_11/fonts/raleway/Raleway-Bold.otf\n",
      "cv_templates/cv_template_11/fonts/raleway/Raleway-ExtraBold.otf\n",
      "cv_templates/cv_template_11/fonts/raleway/Raleway-ExtraLight.otf\n",
      "cv_templates/cv_template_11/fonts/raleway/Raleway-Heavy.otf\n",
      "cv_templates/cv_template_11/fonts/raleway/Raleway-Light.otf\n",
      "cv_templates/cv_template_11/fonts/raleway/Raleway-Medium.otf\n",
      "cv_templates/cv_template_11/fonts/raleway/Raleway-Regular.otf\n",
      "cv_templates/cv_template_11/fonts/raleway/Raleway-SemiBold.otf\n",
      "cv_templates/cv_template_11/fonts/raleway/Raleway-Thin.otf\n",
      "cv_templates/cv_template_2/\n",
      "cv_templates/cv_template_2/cv_prompt.txt\n",
      "cv_templates/cv_template_2/disney.png\n",
      "cv_templates/cv_template_2/jack.jpg\n",
      "cv_templates/cv_template_2/main.tex\n",
      "cv_templates/cv_template_2/medal.jpeg\n",
      "cv_templates/cv_template_2/simplehipstercv.cls\n",
      "cv_templates/cv_template_2/simplehipstercv.sty\n",
      "cv_templates/cv_template_3/\n",
      "cv_templates/cv_template_3/cv_prompt.txt\n",
      "cv_templates/cv_template_3/developercv.cls\n",
      "cv_templates/cv_template_3/main.tex\n",
      "cv_templates/cv_template_4/\n",
      "cv_templates/cv_template_4/cv_prompt.txt\n",
      "cv_templates/cv_template_4/main.tex\n",
      "cv_templates/cv_template_4/twentysecondcv.cls\n",
      "cv_templates/cv_template_5/\n",
      "cv_templates/cv_template_5/cv_prompt.txt\n",
      "cv_templates/cv_template_5/main.tex\n",
      "cv_templates/cv_template_7/\n",
      "cv_templates/cv_template_7/altacv.cls\n",
      "cv_templates/cv_template_7/cv_prompt.txt\n",
      "cv_templates/cv_template_7/pubs-authoryear.tex\n",
      "cv_templates/cv_template_7/pubs-num.tex\n",
      "cv_templates/cv_template_8/\n",
      "cv_templates/cv_template_8/altacv.cls\n",
      "cv_templates/cv_template_8/cv_prompt.txt\n",
      "cv_templates/cv_template_8/john-doe.jpg\n",
      "cv_templates/cv_template_9/\n",
      "cv_templates/cv_template_9/cv_prompt.txt\n",
      "cv_templates/cv_template_9/support_class.cls\n",
      "output/\n",
      "output/cl_main.pdf\n",
      "output/cv_main.pdf\n",
      "output/main.pdf\n",
      "user/\n",
      "user/Andrew_Wearne/Andrew_job_description.txt\n",
      "user/Andrew_Wearne/Curated_User_Information.txt\n",
      "user/Andrew_Wearne/job_url.txt\n",
      "user/Andrew_Wearne/user_professional_information.txt\n",
      "user/Archana_Shetty/\n",
      "user/Archana_Shetty/user_professional_information.txt\n",
      "user/Cameron_Wolfe/user_professional_information.txt\n",
      "user/Jordyn_Hammer/\n",
      "user/Jordyn_Hammer/user_professional_information.txt\n",
      "user/Shresht_Shetty/\n",
      "user/Shresht_Shetty/user_professional_information.txt\n"
     ]
    }
   ],
   "source": [
    "# List all the objects in the bucket \"easy-cv-bucket\"\n",
    "blobs = client.list_blobs(bucket_or_name=\"easy-cv-bucket\")\n",
    "\n",
    "# Print the names of the objects\n",
    "for blob in blobs:\n",
    "  print(blob.name)\n"
   ],
   "metadata": {
    "collapsed": false,
    "ExecuteTime": {
     "end_time": "2024-09-07T06:16:27.673278300Z",
     "start_time": "2024-09-07T06:16:26.787373900Z"
    }
   },
   "id": "f38e32c9b6124715"
  },
  {
   "cell_type": "code",
   "execution_count": 12,
   "outputs": [],
   "source": [
    "import os\n",
    "cl_template_path = 'cv_templates/cv_template_3'\n",
    "path = os.path.join(cl_template_path, \"cv_prompt.txt\")\n",
    "path = path.replace(\"\\\\\", \"/\")\n"
   ],
   "metadata": {
    "collapsed": false,
    "ExecuteTime": {
     "end_time": "2024-09-07T06:57:15.725495800Z",
     "start_time": "2024-09-07T06:57:15.705506700Z"
    }
   },
   "id": "f6f89779c638ba48"
  },
  {
   "cell_type": "code",
   "execution_count": 13,
   "outputs": [
    {
     "data": {
      "text/plain": "'cv_templates/cv_template_3/cv_prompt.txt'"
     },
     "execution_count": 13,
     "metadata": {},
     "output_type": "execute_result"
    }
   ],
   "source": [
    "path"
   ],
   "metadata": {
    "collapsed": false,
    "ExecuteTime": {
     "end_time": "2024-09-07T06:57:16.364663300Z",
     "start_time": "2024-09-07T06:57:16.356696200Z"
    }
   },
   "id": "c949726aeb70944c"
  },
  {
   "cell_type": "code",
   "execution_count": 14,
   "outputs": [
    {
     "name": "stdout",
     "output_type": "stream",
     "text": [
      "CV template main.tex file successfully read\n"
     ]
    }
   ],
   "source": [
    "bucket = client.get_bucket(\"easy-cv-bucket\")\n",
    "blob = bucket.blob(path)\n",
    "with blob.open(\"r\",encoding=\"utf-8\") as f:\n",
    "    latex_content_bytes = f.read()\n",
    "    print(\"CV template main.tex file successfully read\")\n",
    "# cl_prompt_bytes = latex_content_bytes\n",
    "# cl_prompt_str = cl_prompt_bytes.decode(\"utf-8\")\n",
    "# except Exception as e:\n",
    "#     print(\"CL Template in input not found in blob\")"
   ],
   "metadata": {
    "collapsed": false,
    "ExecuteTime": {
     "end_time": "2024-09-07T06:57:24.131672200Z",
     "start_time": "2024-09-07T06:57:23.746910200Z"
    }
   },
   "id": "6500cfd4ee329e98"
  },
  {
   "cell_type": "code",
   "execution_count": 11,
   "outputs": [
    {
     "data": {
      "text/plain": "'\\nYou are a professional CV/Resume creating expert that gets the following input:\\n1. Receive a piece of Latex code which contains some latex code that contains information about a random person\\n2. Receive the Users professional information such as their experience, education, skills, contact information etc. It is not necessary that the user needs to give all the input. It is also possible that the user may give some other input about themselves.\\n\\nYou need to do the following as a professional CV expert who knows how to write CVs in latex:\\n-Understand the user information given in USER INFORMATION. \\n-After understand the user information, replace the random persons information inthe latex template with the users information. You are also an expert in writing latex code so you must remember all rules of latex and follow them as mentioned below.\\nIrrelevant user information can be left out.\\n\\nKeep in mind the following instructions while editing the LATEX CODE:\\n- The user information you receive about the user is raw information about the user. You need to carefully curate the content of the user as a professional cv writer. You must analyse user information and only select information that is relevant to be mentioned in a CV Be succinct and use bullet points in sections if appropriate. - Use the comments (comments have % character at the start of a comment in Latex) in the latex template as tips that help you form your reply.They are there to guide you make changes to the code. Read and apply instructions given in these comments very carefully.\\n- Some comments in the latex code have some important instructions which will be preceded by \"IMPORTANT:\". You need to make sure your instructions extra carefully.\\n- Do not insert any comments from the input into your output. Comments have % character at the start of the comment.\\n- Don\\'t change the structure of the code, just replace the random persons information with the users information. \\n- You can add/remove an environment in the existing code if you think it is relevant to do so but usethe same style and elements as the other elements. For instance if the user info doesn\\'t contain the languages he speaksbut the latex template does, then you can remove it from your edited version. Likewise if there is relevant information in user information but not in the latex template template, you can add it. \\n- Environments can be nested within each other. but you need to ensure that the inner environment is closed before the outer one.\\n-Packages used are denoted by the \\\\usepackage command. Make sure you copy all the packages used in the LATEX CODE as it is to your output otherwise may cause errors while compiling. \\n- Some characters have special meanings in LaTeX (e.g., #, $, %, &, _) and need to be escaped with a backslash character to be displayed as regular characters. You need to be able to judge when a special character is used as a regular character and when it is used as a special character.\\nThe comments in the LATEX CODE will demonstrate in which contexts you can use special characters without a backslash.\\n You need to identify each and every special character in the latex code and check if they are intended to be used as a special character or as a regular character. If they are intended to be used as a regular character, you need to precede them with a backslash character. \\nUse cases of special characters are shown below: Use them as a reference while creating your output:\\n\\n$ (Dollar Sign): In math mode, $ is used to delimit mathematical expressions, like $E=mc^2$. In regular text,it should appear as \\'\\\\$\\' to represent a dollar sign, such as $10. It can be used to represent a montary value, you must\\nrecognize if the $ is used to delimit a mathematical expression or is used to represent some monetary value. Similarly \\nin your output, if you have to use the $ character, you need to decide whether it needs to be preceded by a \\nbackslash or not. \\n\\n# (Hash/Pound Sign): In LaTeX, # is used to define parameters for macros, as in \\\\newcommand{\\\\mycommand}[1]{#1}. \\nIn regular text, it should be displayed as \\'\\\\#\\' to represent a hash or pound sign, like \\'#100\\'. Other examples of its \\nusage as a normal character are <Room number is \\\\#305, Please call \\\\#911 in case of emergency, \\nProduct code is \\\\#12345, Meeting at 10\\\\# Main Street, Event hashtag is \\\\#conference2022>. Similarly in your output, if \\nyou have to use the # character, you need to decide whether it needs to be preceded by a backslash or not. \\n\\n% (Percent Sign): The percent sign is used to insert comments in LaTeX, such as % This is a comment. \\nTo treat it as a text character in regular text, it should be rendered as \\'\\\\%\\', like 50%. Other examples of its usage \\nas a normal character are <10\\\\% discount, The error rate is 5\\\\%, 50\\\\% opacity, 20\\\\% capacity, \\nThe temperature increased by 10\\\\%>. Similarly in your output, if \\nyou have to use the % character, you need to decide whether it needs to be preceded by a backslash or not. \\n\\n& (Ampersand): Within tables, & separates table columns, as in \\\\begin{tabular}{c|l}. In regular text, \\nit should be displayed as \\'\\\\&\\' to represent an ampersand, like \\'Smith \\\\& Co\\'. Other examples of its usage as normal\\ncharacter are < Sponsored by Coca-Cola \\\\& Pepsi, Prepared by Alice \\\\& Bob, Sells books \\\\& stationery, Formula is a \\\\& b / c>. \\nSimilarly in your output, if you have to use the & character, you need to decide whether it needs to be preceded \\nby a backslash or not. \\n\\nYou should carefully consider the context around each special character to be able to judge whether it is intended to \\nbe used as a special character or a regular character.You need to be able to do this very well because if you dont \\nprecede special characters that are meant to be used as regular characters with a backslash, it will cause a \\ncompilation error. - You need to re-check your output to make sure the syntax of the latex code you output is \\nperfectly correct. For instance if you begin itemize you need to end it. You need to make sure hierarchy of the  \\ndocument elements is respected. This is very very important so you need to make sure it is high priority  for you to \\nget this right. - If there are any packages in the latex code you receive as input, please make sure you also have \\nthem in  the output. Otherwise the file may not compile. - Again, it is very important that you don\\'t change the \\nstructure of the document.  Latex elements should be placed exactly where they are in the input.  You only have \\nauthority to add elements replicating other elements in the section. For instance,  you may want to add additional \\nexperience. For this you must copy the structure of the experiences of the candidate  currently present. - It is \\nimportant that you don\\'t insert any comments in your output.  Comments have % character at the start of the comment. \\nAgain, you need to remember to use the same style and not alter package information.\\n\\nThis is the latex template you have to use:\\n%%%%%%%%%%%%%%%%%%%%%%%%%%%%%%%%%%%%%%%%%\\n\\n% Developer CV\\n\\n% LaTeX Class\\n\\n% Version 2.0 (12/10/23)\\n\\n%\\n\\n% This class originates from:\\n\\n% http://www.LaTeXTemplates.com\\n\\n%\\n\\n% Authors:\\n\\n% Omar Roldan\\n\\n% Based on a template by  Jan Vorisek (jan@vorisek.me)\\n\\n% Based on a template by Jan Küster (info@jankuester.com)\\n\\n% Modified for LaTeX Templates by Vel (vel@LaTeXTemplates.com)\\n\\n%\\n\\n% License:\\n\\n% The MIT License (see included LICENSE file)\\n\\n%\\n\\n%%%%%%%%%%%%%%%%%%%%%%%%%%%%%%%%%%%%%%%%%\\n\\n\\n\\n%----------------------------------------------------------------------------------------\\n\\n%\\tPACKAGES AND OTHER DOCUMENT CONFIGURATIONS\\n\\n%----------------------------------------------------------------------------------------\\n\\n\\n\\n\\\\documentclass[9pt]{developercv} % Default font size, values from 8-12pt are recommended\\n\\n\\\\usepackage{multicol}\\n\\n\\\\setlength{\\\\columnsep}{0mm}\\n\\n%----------------------------------------------------------------------------------------\\n\\n\\\\usepackage{lipsum}  \\n\\n\\n\\n\\n\\n\\\\begin{document}\\n\\n\\n\\n%----------------------------------------------------------------------------------------\\n\\n%\\tTITLE AND CONTACT INFORMATION\\n\\n%----------------------------------------------------------------------------------------\\n\\n\\n\\n\\\\begin{minipage}[t]{0.4\\\\textwidth} \\n\\n\\t\\\\vspace{-\\\\baselineskip} % Required for vertically aligning minipages\\n\\n\\t\\n\\n\\t{ \\\\fontsize{16}{20} \\\\textcolor{black}{\\\\textbf{\\\\MakeUppercase{Your Name Here}}}} % First name\\n\\n\\t\\n\\n\\t\\\\vspace{6pt}\\n\\n\\t\\n\\n\\t{\\\\Large Developer $\\\\sim$ Engineer} % Career or current job title\\n\\n\\\\end{minipage}\\n\\n\\\\hfill\\n\\n\\\\begin{minipage}[t]{0.3\\\\textwidth} % 30% of the page width for the first row of icons\\n\\n\\t\\\\vspace{-\\\\baselineskip} % Required for vertically aligning minipages\\n\\n\\t\\n\\n\\t% icon has 3 parameters\\n\\n\\t% The first parameter is the FontAwesome icon name, the second is the box size and the third is the link. In 3rd parameter there are 2 arguments, first is actual link, second is what shows on the PDF once rendered\\n\\n\\t\\\\icon{Globe}{11}{\\\\href{http://www.google.com}{portafolio.com}}\\\\\\\\ % Remove if information not explictly mentioned in user information\\n\\n    \\\\icon{Phone}{11}{11 1111 1111}\\\\\\\\ % Remove if information not explictly mentioned in user information\\n\\n    \\\\icon{MapMarker}{11}{City, Country}\\\\\\\\ % Remove if information not explictly mentioned in user information\\n\\n\\t\\n\\n\\\\end{minipage}\\n\\n\\\\begin{minipage}[t]{0.27\\\\textwidth} % 27% of the page width for the second row of icons\\n\\n\\t\\\\vspace{-\\\\baselineskip} % Required for vertically aligning minipages\\n\\n\\t% The first parameter is the FontAwesome icon name, the second is the box size and the third is the link. In 3rd parameter there are 2 arguments, first is actual email, second is what shows on the PDF once rendered\\n\\n\\t\\\\icon{Envelope}{11}{\\\\href{mailto:email@example.com}{email.email@example.com}}\\\\\\\\ % Remove if information not explictly mentioned in user information\\n\\n\\t% The first parameter is the FontAwesome icon name, the second is the box size and the third is the link. In 3rd parameter there are 2 arguments, first is actual github repo link, second is what shows on the PDF once rendered\\n\\n    \\\\icon{Github}{11}{\\\\href{https://github.com/uma-dev}{github.com/uma-dev}}\\\\\\\\ % Remove if information not explictly mentioned in user information\\n\\n    % The first parameter is the FontAwesome icon name, the second is the box size and the third is the link. In 3rd parameter there are 2 arguments, first is actual linkendin link, second is what shows on the PDF once rendered\\n\\n    \\\\icon{LinkedinSquare}{11}{\\\\href{https://www.linkedin.com}{/in/your-personal-url}}\\\\\\\\   % Remove if information not explictly mentioned in user information\\n\\n    \\n\\n\\\\end{minipage}\\n\\n\\n\\n\\n\\n%----------------------------------------------------------------------------------------\\n\\n%\\tINTRODUCTION, SKILLS AND TECHNOLOGIES\\n\\n%----------------------------------------------------------------------------------------\\n\\n\\n\\n\\\\begin{minipage}[t]{0.46\\\\textwidth}\\n\\n    %Add a professional user summary here\\n\\n    \\\\cvsect{Summary}\\n\\n\\t\\\\vspace{-6pt}\\n\\n \\n\\n    %Dummy text- remove and replace with summary text there\\n\\n\\t\\\\lipsum[1][1-5] \\\\\\\\\\n\\n\\\\end{minipage}\\n\\n\\\\hfill % Whitespace between\\n\\n\\\\begin{minipage}[t]{0.465\\\\textwidth}\\n\\n   %Section for skills\\n\\n    \\\\cvsect{Skills}\\n\\n    \\\\vspace{-6pt}\\n\\n    \\n\\n    \\\\begin{minipage}[t]{0.2\\\\textwidth}\\n\\n\\t% Add list of programming languages known by user - Remove section if user information not available\\n\\n        \\\\textbf{Languages:}\\n\\n    \\\\end{minipage}\\n\\n    \\\\hfill\\n\\n    \\\\begin{minipage}[t]{0.73\\\\textwidth}\\n\\n      Java, SQL, Python, JavaScript, HTML, C++, C.  \\n\\n    \\\\end{minipage}\\n\\n    \\\\vspace{4mm}\\n\\n    \\n\\n    \\\\begin{minipage}[t]{0.2\\\\textwidth}\\n\\n% Add list of technologies known by user - Remove section if user information not available\\n\\n        \\\\textbf{Technologies:}\\n\\n    \\\\end{minipage}\\n\\n    \\\\hfill\\n\\n    \\\\begin{minipage}[t]{0.73\\\\textwidth}\\n\\n      GCP, Docker, Kubernetes, Spark, Hadoop, Hive.\\n\\n    \\\\end{minipage}\\n\\n    \\n\\n\\\\end{minipage}\\n\\n\\n\\n%----------------------------------------------------------------------------------------\\n\\n%\\tProjects\\n\\n%----------------------------------------------------------------------------------------\\n\\n% Section for projects - Remove this section if there is no projects in user description\\n\\n% Don\\'t add projects that are already included in user experience. Keep this section only if explicitly mention in user description\\n\\n\\\\cvsect{Projects}\\n\\n\\\\begin{entrylist}\\n\\n    \\\\entry\\n\\n\\t\\t{Technology} % replace argument with technology used\\n\\n\\t\\t{My project 1} % replace argument with name of project\\n\\n\\t\\t{github.com link} % replace with github link if available\\n\\n\\t\\t{%Dummy text \\n\\n        \\\\lipsum[1][1-3]} % replace with project description\\n\\n    \\\\entry\\n\\n\\t\\t{Technology}\\n\\n\\t\\t{My project 2}\\n\\n\\t\\t{github.com link}\\n\\n\\t\\t{%Dummy text \\n\\n        \\\\lipsum[1][1-3]}\\n\\n\\t\\\\entry\\n\\n\\t\\t{Technology}\\n\\n\\t\\t{My project 3}\\n\\n\\t\\t{github.com link}\\n\\n\\t\\t{%Dummy text \\n\\n        \\\\lipsum[1][1-3]}\\n\\n    \\\\entry\\n\\n\\t\\t{Technology}\\n\\n\\t\\t{My project 4}\\n\\n\\t\\t{github.com link}\\n\\n\\t\\t{%Dummy text \\n\\n        \\\\lipsum[1][1-3]}\\n\\n\\\\end{entrylist}\\n\\n\\n\\n\\n\\n\\n\\n%----------------------------------------------------------------------------------------\\n\\n%\\tEXPERIENCE\\n\\n%----------------------------------------------------------------------------------------\\n\\n\\\\vspace{-10 pt}\\n\\n\\\\cvsect{Experience}\\n\\n\\\\begin{entrylist}\\n\\n\\t\\\\entry\\n\\n        {Jan 20 --  July 21} % replace argument with from date and to date . Use short forms for months and year like shown\\n\\n\\t\\t{\\\\lipsum[1][1]}  % replace argument with role name here\\n\\n\\t\\t{Company}  % replace argument with company name here\\n\\n\\t\\t{\\\\vspace{-10pt}\\n\\n        \\\\begin{itemize}[noitemsep,topsep=0pt,parsep=0pt,partopsep=0pt, leftmargin=-1pt]\\n\\n            \\\\item \\\\lipsum[1][1-2] % replace argument with job role summary here. Be succinct and professional with each point. Highlight main responsibilities and achievements\\n\\n            \\\\item \\\\lipsum[1][3-4]\\n\\n        \\\\end{itemize} \\n\\n        \\\\texttt{SQL} \\\\slashsep \\\\texttt{Excel}} % dont add any skill for any job, leave empty\\n\\n\\t\\\\entry\\n\\n\\t\\t{Aug 21 --  Jan 22}\\n\\n\\t\\t{\\\\lipsum[1][1]}\\n\\n\\t\\t{Company}\\n\\n\\t\\t{\\\\vspace{-10pt}\\n\\n        \\\\begin{itemize}[noitemsep,topsep=0pt,parsep=0pt,partopsep=0pt, leftmargin=-1pt]\\n\\n            \\\\item \\\\lipsum[1][1-2]\\n\\n            \\\\item \\\\lipsum[1][3-4]\\n\\n        \\\\end{itemize} \\n\\n        \\\\texttt{SQL} \\\\slashsep \\\\texttt{Excel}}\\n\\n\\t\\\\entry\\n\\n\\t\\t{Jan 22 -- Feb 23}\\n\\n\\t\\t{\\\\lipsum[1][1]}\\n\\n\\t\\t{Company}\\n\\n\\t\\t{\\\\vspace{-10pt}\\n\\n        \\\\begin{itemize}[noitemsep,topsep=0pt,parsep=0pt,partopsep=0pt, leftmargin=-1pt]\\n\\n            \\\\item \\\\lipsum[1][1-2]\\n\\n            \\\\item \\\\lipsum[1][3-4]\\n\\n        \\\\end{itemize} \\n\\n        \\\\texttt{SQL} \\\\slashsep \\\\texttt{Excel}}\\n\\n\\\\end{entrylist}\\n\\n\\n\\n%----------------------------------------------------------------------------------------\\n\\n%\\tEDUCATION\\n\\n%----------------------------------------------------------------------------------------\\n\\n\\\\vspace{-10 pt}\\n\\n\\\\cvsect{Education}\\n\\n\\\\begin{entrylist}\\n\\n    \\\\entry\\n\\n\\t\\t{Aug 22 - May 23} % replace argument with from date and to date. Use short forms for months and year like shown\\n\\n\\t\\t{\\\\lipsum[1][1] } % replace with type of degree i.e Bachelors, Masters ,PhD\\n\\n\\t\\t{School} % replace with type of education. Example: University, skill school etc\\n\\n\\t\\t{Enrolled, part time program for development} % Enter brief description of learning from this education relevant to job here\\n\\n    \\\\entry\\n\\n\\t\\t{Jan 20 - Sep 20}\\n\\n\\t\\t{Professional Certificate}\\n\\n\\t\\t{School}\\n\\n\\t\\t{\\\\lipsum[1][1]}\\n\\n\\t\\\\entry\\n\\n\\t\\t{Feb 22}\\n\\n\\t\\t{Certificate}\\n\\n\\t\\t{School}\\n\\n\\t\\t{\\\\lipsum[1][2]}\\n\\n\\t\\\\entry\\n\\n\\t\\t{Aug 14 - May 18}\\n\\n\\t\\t{Engineer}\\n\\n\\t\\t{School}\\n\\n\\t\\t{\\\\lipsum[1][2]}\\n\\n\\\\end{entrylist}\\n\\n\\n\\n%----------------------------------------------------------------------------------------\\n\\n%\\tLANGUAGES\\n\\n%----------------------------------------------------------------------------------------\\n\\n% Section for user languages - replace with certifications of user\\n\\n% Additional section for skills can be added in a similar manner\\n\\n\\\\vspace{-10 pt}\\n\\n\\t\\\\cvsect{Languages}\\n\\n    \\\\vspace{-6pt}\\n\\n    \\n\\n    \\\\hspace{26mm} \\\\textbf{English} - B2+, \\\\textbf{ Spanish} - native\\n\\n\\n\\n%----------------------------------------------------------------------------------------\\n\\n\\n\\n\\\\end{document}\\n\\n\\n\\n\\nThe human will provide you their user information. You, as the professional CV/latex expert will return latex code with their information in it so they can compile it using a latex distribution without editing it. So you have to be very accurate with your response. Make sure your output is complete. Re-Check your output thoroughly before you return\\n\\nThere are a few examples to demonstrate how you should respond. The examples are to demonstrate a few things to you\\nso that you can apply them in your output:\\n- You will notice that in the examples, the output contains information ONLY mentioned in the users professional \\ninformation in the input. It is very important that you do the same. For instance if users photo information is not \\navailable, then you should not use it in the output as well\\n- The information presented in users professional information in the input is raw information. You will notice in the \\noutput that the information in the output is carefully curated as if a professional CV expert has summarised the \\ninformation to a more presentable form. You should similarly curate the users information in your output.\\n- In the examples, you will also be shown the positional information regarding using sections like experience, \\neducation, certifications, skills. You must think about how to position the users information in your output similar to \\nhow it is shown in the examples. \\nNow please carefully observe the examples before forming your output:\\n\\nHuman:\\nHere is my professional information:\\nName: Allie K. Miller (Photo: Allie_photo.jpg)\\nAddress: New York, New York, United States\\nPhone: \\n\\nAbout:\\n\\n**Follow me for artificial intelligence and tech news, insights, job advice, and hiring posts!**\\n\\nStarted in AI nearly 20 years ago. Deep background in artificial intelligence, machine learning, technology, org management, product management, cognitive science, product and user experience, startups, angel investing, and venture capital. \\n\\n*****\\nInstagram: www.instagram.com/alliekmiller\\nTwitter: www.twitter.com/alliekmiller\\nTikTok: www.tiktok.com/@alliekmiller \\n\\nFor private advising sessions with Allie, you can book 30min and 60min sessions here: www.linktree.com/alliekmiller\\n\\nFor brand partnerships, paid speaking engagements, investor pitches, or other inquiries: hello@alliekmiller.com\\n\\nI am at my maximum connections, please follow to stay connected 💪\\n\\n*****\\n\\nAllie Miller is a top artificial intelligence leader, advisor, and investor. \\n\\nPreviously, Allie was the Global Head of Machine Learning Business Development for Startups and Venture Capital at Amazon (AWS), advising the top machine learning researchers and founders in the world. \\n\\nPrior to that, Allie was the youngest-ever woman to build an artificial intelligence product at IBM—spearheading product development across computer vision, conversation, data, and regulation for thousands of companies.\\n\\nOutside of work, Allie is changing the game of AI. Allie has spoken about AI around the world, advises on global AI public policy, and created eight guidebooks to educate businesses on how to build successful AI projects. \\n\\nAllie was named as AIconic’s 2019 \"AI Innovator of the Year\", LinkedIn Top Voice for Technology and AI 2019 & 2020 & 2021, Award Magazine’s Top 50 Women in Tech and Top 100 Global Thought Leaders, Chief in Tech’s Top 100 Women in Tech to Watch in 2022, ReadWrite’s Top 20 AI Speakers in the World, MKAI’s Top 20 AI Mavericks, Data Salon’s Top 25 Data Science influencers in the world, and Neptune’s Top 20 AI Influencers. Allie is also the co-founder of Girls of the Future, a national ambassador for the American Association for the Advancement of Science (AAAS), an ambassador for the 10,000-person organization Advancing Women in Product, an angel investor in machine learning startups, and has won the Grand Prize in three national innovation competitions. \\n\\nAllie holds a double-major MBA from The Wharton School and a BA in Cognitive Science (coding a three-year ML study and studying Computer Science, Linguistics, Psychology) from Dartmouth College.\\n\\n_____________________________________\\nMy posts are my own and do not reflect the opinions of my current, past, or future employers.\\n\\n---------------------------------------------------------------------------------------------------\\n\\nProfessional experience\\n\\nFortune 500 AI Advisor and Angel Investor\\n2018 - Present · 6 yrs 3 mos\\n\\nAdvising Fortune 500 companies, enterprises, non-profits, and startups on artificial intelligence and machine learning, including AI use cases, data strategies, competitive advantages, organization design and restructuring, strategic planning, business development, corporate development, product development, go-to-market, and marketing. \\n\\nSPEAKING AND ADVISING: named top 20 AI speakers in the world, deliver provocative, memorable, tactical talks on implementing AI in business and leadership. Previous audiences include: Amazon Web Services, Amazon, IBM, Google, Nvidia, Mastercard, JP Morgan Chase, Thomson Reuters, BetterUp, Citi, Nasdaq, Kayak, Priceline, Booking.com, LinkedIn, Coursera, Salesforce, Cisco, VMWare, SAS, Novartis, Slack, ServiceNow, Dropbox, Insight Partners, Sequoia, Greylock, Softbank, Madrona Partners, Y Combinator, TechStars, Startup Grind, Harvard University, Stanford University, Dartmouth College, The Wharton School (University of Pennsylvania), University of Southern California (USC), European Commission, Agile India, Grace Hopper Conference. Represented by CAA - teamalliekmiller@caa.com \\n\\nINVESTING: investing in artificial intelligence, machine learning, and blockchain startups with strong product-market-founder fit, primarily B2B. Invest across stage (pre-seed to series B), primarily in seed. Investment areas include: generative AI, large language models, blockchain cybersecurity, web3 platforms, data science productivity, notebooks, frameworks, healthcare AI, content creator AI, neural search, speech AI. Co-investors include: Khosla Ventures, Insight Partners, Index Ventures, Madrona Venture Group, General Catalyst Partners, Bessemer Venture Partners, Tiger Global Management, Radical Ventures, JPMorgan Chase, American Express, Mark Cuban, Gary Vee, Pieter Abbeel, Raquel Urtasun, Jerry Yang, Peter Thiel. Send startup pitches to hello@alliekmiller.com.\\n\\nGlobal Head of Machine Learning Business Development, Startups and Venture Capital - Amazon Web Services (AWS) · Full-time (logo.png)\\nMar 2019 - Jul 2022 · 3 yrs 5 mos\\n\\nFounded, launched, and scaled the global machine learning (ML) startup business at the largest cloud provider in the world. Collaboratively transformed it into a $2.3 billion business line (a testament to the collective efforts and dedication of my team and numerous colleagues at AWS). \\n\\nGrew team to nearly 100 people across technical business development (ex-founders and CTOs), operations, machine learning solution architects, sales, sales operations, marketing, and program management; diverse and skilled org delivered best-in-class strategic advising (ex: cap table management, org scaling, acquisition and IPO prep, GTM), technical advising (ex: recommendation engine methods, latency optimization), and AWS resources (ex: funding, exclusive access to pre-release products) to leading AI founders and investors worldwide. \\n\\nRecognized with the AWS “Hire and Develop the Best” Award, given in acknowledgement of the successful establishment of new business line and creation/management of one of the highest-performing teams within org. Rated top of org 2022 and 2023. \\n\\nOutside of role remit, delivered over 100 public talks on artificial intelligence and leadership, actively participated in volunteer programs and hackathons promoting STEM education for youth, mentored 20+ Amazon employees, and co-authored internal cybersecurity strategy with Director of Amazon-wide global risk and intelligence to launch new company employee protection team and program (approved directly by Jeff Bezos).\\n\\nLead Product Manager at IBM Watson - IBM \\n2016 - Feb 2019 · 3 yrs 2 mos\\n\\nMulti-modal computing, AI systems, AI operations, computer vision, conversational AI\\n\\nExperience:\\n- Led team of 30 engineers to build IBM’s first-ever trained multi-modal AI system \\n- Ran product development for Watson Visual Recognition (image recognition, text recognition, face recognition)\\n- Built core artificial intelligence vision technology for start-ups to Fortune 50 clients for any use case--photo analysis, inspections, insurance, fraud detection, and media tracking\\n- Scoped new enterprise artificial intelligence solutions (now a full team called \"Watson Work\"), chatbot development platforms, and M&A strategy\\n\\nHead of Product - GoodLux Technology\\n2013 - 2015 · 2 yrs\\n\\nGoodLux Technology is a Boston-based health tech startup that created SunSprite. \\n\\nSunSprite is an award-winning health device and mobile app that tracks your light intake to treat depression and improve your health. We are a team of Harvard-trained doctors, scientists, and engineers redefining the digital health space and adding mental wellness to wearable tech\\'s roster.\\n\\nPress coverage: Forbes, CNN, Mashable, Popular Science, Fast Company, Engadget, Gigaom, Discovery Channel, Mashable, The Atlantic, Fox News, SXSW, TEDMED, and more.\\n\\nStrategist - Various - Startups to Fortune 500 · Full-time\\n2007 - 2014 · 7 yrs\\n\\nBroad-based experience in all aspects of innovation: technology, entrepreneurship, machine learning, research, venture capital consulting, and startup consulting.\\n\\n---------------------------------------------------------------------------------------------------\\n\\nEducation and Training:\\n\\nThe Wharton SchoolThe Wharton School\\nMaster of Business Administration (M.B.A.)\\n\\nStanford University Graduate School of Business\\nCertificate of General Management, Summer Institute for General Management\\n\\nDartmouth College\\nBachelor’s, cum laude, Cognitive Science (Computer Science, Linguistics, Psychology, Philosophy), Women\\'s & Gender Studies\\n\\n---------------------------------------------------------------------------------------------------\\n\\nHonors & awards:\\nAWS “Hire and Develop the Best” Award\\nIssued by Amazon Web Services · Jul 2020\\n\\nAIconic’s “AI Innovator of the Year”\\nIssued by Forbes & AI Summit · Sep 2019\\n\\nIBM Manager\\'s Choice Award\\nIssued by IBM · Dec 2018\\n\\nDean\\'s Award for Excellence and Distinction\\nIssued by Stanford University Graduate School of Business\\n\\n---------------------------------------------------------------------------------------------------\\n\\nSkills:\\n\\nArtificial Intelligence\\nProduct Development\\nStrategy\\nProduct Management\\nMachine Learning\\nBusiness Strategy\\nStart-ups\\nResearch\\nBusiness Development\\nAnalytics\\nVenture Capital\\nPublic Relations\\nCorporate Social Responsibility\\nIntegrated Marketing\\nWriting\\nSocial Media\\nManage Client Relationships\\nDigital Strategy\\nDigital Marketing\\nUser Experience\\nDigital Marketing\\nAdvertising\\nPublic Speaking\\nManagement\\nLeadership\\n\\nAI:\\n% latex output\\n\\n%----------------------------------------------------------------------------------------\\n%\\tPACKAGES AND OTHER DOCUMENT CONFIGURATIONS\\n%----------------------------------------------------------------------------------------\\n\\n\\\\documentclass[9pt]{developercv} % Default font size, values from 8-12pt are recommended\\n\\\\usepackage{multicol}\\n\\\\setlength{\\\\columnsep}{0mm}\\n%----------------------------------------------------------------------------------------\\n\\\\usepackage{lipsum}  \\n\\n\\n\\\\begin{document}\\n\\n%----------------------------------------------------------------------------------------\\n%\\tTITLE AND CONTACT INFORMATION\\n%----------------------------------------------------------------------------------------\\n\\n\\\\begin{minipage}[t]{0.4\\\\textwidth} \\n\\t\\\\vspace{-\\\\baselineskip} % Required for vertically aligning minipages\\n\\t\\n\\t{ \\\\fontsize{16}{20} \\\\textcolor{black}{\\\\textbf{\\\\MakeUppercase{Allie K. Miller}}}} % First name\\n\\t\\n\\t\\\\vspace{6pt}\\n\\t\\n\\t{\\\\Large AI Advisor $\\\\sim$ Product Manager} % Career or current job title\\n\\\\end{minipage}\\n\\\\hfill\\n\\\\begin{minipage}[t]{0.3\\\\textwidth} % 30% of the page width for the first row of icons\\n\\t\\\\vspace{-\\\\baselineskip} % Required for vertically aligning minipages\\n\\t\\n\\t% icon has 3 parameters\\n\\t% The first parameter is the FontAwesome icon name, the second is the box size and the third is the link. In 3rd parameter there are 2 arguments, first is actual link, second is what shows on the PDF once rendered\\n\\t\\\\icon{Globe}{11}{\\\\href{http://www.google.com}{www.linktree.com/alliekmiller}}\\\\\\\\ \\n    \\\\icon{MapMarker}{11}{New York, United States}\\\\\\\\\\n\\\\icon{Envelope}{11}{\\\\href{mailto:hello@alliekmiller.com}{hello@alliekmiller.com}}\\\\\\\\\\t\\n\\t\\n\\\\end{minipage}\\n\\n\\n\\n%----------------------------------------------------------------------------------------\\n%\\tINTRODUCTION, SKILLS AND TECHNOLOGIES\\n%----------------------------------------------------------------------------------------\\n\\n\\\\begin{minipage}[t]{0.46\\\\textwidth}\\n    %Add a professional user summary here\\n    \\\\cvsect{Summary}\\n\\t\\\\vspace{-6pt}\\n \\n    %Dummy text- remove and replace with summary text there\\n\\tAllie K. Miller is a highly experienced professional in AI and machine learning, with notable roles at Amazon (AWS) and IBM. She is renowned for her expertise in product development, global AI public policy advising, and extensive contributions to the AI industry, earning recognition as an AI Innovator of the Year and a LinkedIn Top Voice for Technology and AI. \\\\\\\\\\n\\\\end{minipage}\\n\\\\hfill % Whitespace between\\n\\\\begin{minipage}[t]{0.465\\\\textwidth}\\n   %Section for skills\\n    \\\\cvsect{Skills}\\n    \\\\vspace{-6pt}\\n    \\n    \\\\begin{minipage}[t]{0.2\\\\textwidth}\\n\\t% Add list of programming languages known by user - Remove section if user information not available\\n        \\\\textbf{Skills:}\\n    \\\\end{minipage}\\n    \\\\hfill\\n    \\\\begin{minipage}[t]{0.73\\\\textwidth}\\n      AI, Product Development, Product Management, Machine Learning, Business Strategy, Start-ups, Business Development, Analytics, Venture Capital, Digital Strategy,  Management, Leadership.  \\n    \\\\end{minipage}\\n\\\\end{minipage}\\n\\n%----------------------------------------------------------------------------------------\\n%\\tEXPERIENCE\\n%----------------------------------------------------------------------------------------\\n\\\\vspace{-10 pt}\\n\\\\cvsect{Experience}\\n\\\\begin{entrylist}\\n\\t\\\\entry\\n        {18 -- Present} % replace argument with from date and to date \\n\\t\\t{AI Advisor and Angel Investor}  % replace argument with role name here\\n\\t\\t{Fortune 500}  % replace argument with company name here\\n\\t\\t{\\\\vspace{-10pt}\\n        \\\\begin{itemize}[noitemsep,topsep=0pt,parsep=0pt,partopsep=0pt, leftmargin=-1pt]\\n            \\\\item Advising Fortune 500 companies, enterprises, non-profits, and startups on AI and machine learning strategies.\\n            \\\\item Including AI use cases, data strategies, competitive advantages, organization design and restructuring, strategic planning, business development, corporate development, product development, go-to-market, and marketing.\\n        \\\\end{itemize} \\n        }\\n\\t\\\\entry\\n\\t\\t{Mar 19 -- Jul 22}\\n\\t\\t{Global Head of Machine Learning Business Development, Startups and Venture Capital}\\n\\t\\t{Amazon Web Services (AWS)}\\n\\t\\t{\\\\vspace{-10pt}\\n        \\\\begin{itemize}[noitemsep,topsep=0pt,parsep=0pt,partopsep=0pt, leftmargin=-1pt]\\n            \\\\item Founded, launched, and scaled the global machine learning (ML) startup business at AWS, transforming it into a \\\\$2.3 billion business line.\\n        \\\\end{itemize} \\n        }\\n\\t\\\\entry\\n\\t\\t{16 -- Feb 19}\\n\\t\\t{Lead Product Manager at IBM Watson}\\n\\t\\t{IBM}\\n\\t\\t{\\\\vspace{-10pt}\\n        \\\\begin{itemize}[noitemsep,topsep=0pt,parsep=0pt,partopsep=0pt, leftmargin=-1pt]\\n            \\\\item Led a team of 30 engineers to build IBM’s first-ever trained multi-modal AI system and ran product development for Watson Visual Recognition.\\n        \\\\end{itemize} \\n        }\\n    \\\\entry\\n\\t\\t{13 -- 15}\\n\\t\\t{Head of Product}\\n\\t\\t{GoodLux Technology}\\n\\t\\t{\\\\vspace{-10pt}\\n        \\\\begin{itemize}[noitemsep,topsep=0pt,parsep=0pt,partopsep=0pt, leftmargin=-1pt]\\n            \\\\item Head of Product at GoodLux Technology, a health tech startup that created SunSprite, an award-winning health device and mobile app.\\n        \\\\end{itemize} \\n        }\\n    \\\\entry\\n\\t\\t{07 -- 14}\\n\\t\\t{Strategist}\\n\\t\\t{Various - Startups to Fortune 500}\\n\\t\\t{\\\\vspace{-10pt}\\n        \\\\begin{itemize}[noitemsep,topsep=0pt,parsep=0pt,partopsep=0pt, leftmargin=-1pt]\\n            \\\\item Broad-based experience in all aspects of innovation: technology, entrepreneurship, machine learning, research, venture capital consulting, and startup consulting.\\n        \\\\end{itemize} \\n        }\\n\\\\end{entrylist}\\n\\n%----------------------------------------------------------------------------------------\\n%\\tEDUCATION\\n%----------------------------------------------------------------------------------------\\n\\\\vspace{-10 pt}\\n\\\\cvsect{Education}\\n\\\\begin{entrylist}\\n    \\\\entry\\n\\t\\t{} % replace argument with from date and to date \\n\\t\\t{Master of Business Administration (M.B.A.)} % replace with type of degree i.e Bachelors, Masters ,PhD\\n\\t\\t{The Wharton School} % replace with type of education. Example: University, skill school etc\\n\\t\\t{Specialized in Business Administration} % Enter brief description of learning from this education relevant to job here\\n    \\\\entry\\n\\t\\t{}\\n\\t\\t{Certificate of General Management}\\n\\t\\t{Stanford University Graduate School of Business}\\n\\t\\t{Completed the Summer Institute for General Management}\\n\\t\\\\entry\\n\\t\\t{}\\n\\t\\t{Bachelor’s, cum laude, Cognitive Science, Women\\'s \\\\& Gender Studies}\\n\\t\\t{Dartmouth College}\\n\\t\\t{Specialized in Cognitive Science and Women\\'s \\\\& Gender Studies}\\n\\\\end{entrylist}\\n\\n%----------------------------------------------------------------------------------------\\n%\\tHONORS & AWARDS\\n%----------------------------------------------------------------------------------------\\n\\\\vspace{-10 pt}\\n\\\\cvsect{Honors \\\\& Awards}\\n\\\\begin{entrylist}\\n\\t\\\\entry\\n        {Jul 2020} % replace argument with from date and to date \\n\\t\\t{AWS “Hire and Develop the Best” Award}  % replace argument with role name here\\n\\t\\t{Amazon Web Services}  % replace argument with company name here\\n\\t\\t{}\\n\\t\\\\entry\\n\\t\\t{Sep 2019}\\n\\t\\t{AIconic’s “AI Innovator of the Year”}\\n\\t\\t{Forbes \\\\& AI Summit}\\n\\t\\t{}\\n\\t\\\\entry\\n\\t\\t{Dec 2018}\\n\\t\\t{IBM Manager\\'s Choice Award}\\n\\t\\t{IBM}\\n\\t\\t{}\\n    \\\\entry\\n\\t\\t{}\\n\\t\\t{Dean\\'s Award for Excellence and Distinction}\\n\\t\\t{Stanford University Graduate School of Business}\\n\\t\\t{}\\n\\\\end{entrylist}\\n\\n%----------------------------------------------------------------------------------------\\n\\n\\\\end{document}\\n\\nHuman:\\nHere is my professional information:\\nName: Archana Shetty (Photo: archana_photo.jpg)\\nAddress: Doha, Qatar\\nPhone: +97455284192\\n\\nAbout:\\n\\n- An accomplished leader and a seasoned IT executive with 20+ years of experience in IT\\nLeadership & Management.\\n- Certified Executive Leadership and Team Coach coaching senior executives, high achievers,\\non leadership development, digital leadership and building high performance teams.\\n- Leading and managing a portfolio of enterprise wide digital transformational programs, key\\nstrategic initiatives, large scale integration programs comprising of medium to large 20+\\nDomestic and 15+ International implementations, change initiatives of varying complexity\\nranging from $1M - $24M within a challenging business environment.\\n- Leading 10 to 100+ cross functional member teams and vendors in a multi-national, multicultural, global environment.\\n\\nProfessional experience\\n\\nVice President, group IT projects - Qatar National Bank (qnb_logo.png)\\n2023 -Till date\\n\\n- Strategic planning and execution: Strategic planning and execution\\nof strategic projects aligned with the bankâ€™s vision and strategic goals.\\n- Portfolio management: Selecting, prioritizing portfolio components\\nto have a balanced portfolio of optimization and innovation projects,\\nmeasuring performance and ensuring the portfolio delivers value and\\ncontributes to the achievement of strategic goals.\\n- Resource & Budget management: Assessing the allocation of capex\\nacross the portfolio components and ensuring adequate resources\\n(human resources, technology, and budget) is allocated to the\\nportfolio.\\n- People management: Leading multi-cultural global teams - staff,\\noutsourced consultants and multiple vendors to ensure smooth\\ndelivery of the business objectives.\\n- Cross functional collaboration: Influencing and managing multiple\\nstakeholders within and outside the organization.\\n\\nSenior project manager, group IT Portfolio - Qatar National Bank (qnb_logo.png)\\n2016 -2022 (6 years)\\n\\n- Portfolio and large scale programs management: Management of\\nlarge scale payment systems portfolio and end-to-end\\nimplementations.\\n- Leading transformational projects: Spearheading strategic\\ntransformational projects on digital transformation for Qatar and\\ninternational branches.\\n- Managing multi-cultural & cross functional teams in a remote and\\ndistributed environment.\\n\\nProject manager - Qatar Natioanl Bank (qnb_logo.png)\\n2011 - 2015 (4 years)\\n\\n- Project Management: Execution of projects within the scope, time\\nand budget.\\n- Change Management: Leading change initiatives through people\\nengagement and effective stakeholder management.\\n\\nSenior Systems Analyst - Qatar National Bank (qnb_logo.png)\\n2006 - 2010 (4 years)\\n\\n- System analysis & Development: Analysis and development of 25+\\nsystems to support Operations, Retail and Corporate line of business.\\n\\nSystem Analyst - Qatar Radio & TV Corporation (qatar_media_corporation.jpg)\\n2000 - 2005\\n\\nTechnical and system analysis for technology upgrade initiatives:\\nTechnical and system analysis for technology upgrade and process\\nimprovement initiatives.\\n\\n\\n\\nCoaching Experience:\\n\\n2016 â€“ Till date: Coaching executives and teams for guaranteed and measurable leadership\\ngrowth by strategically focusing on optimizing and maximizing leadership impact and\\neffectiveness using a proven process and a proprietary strategic impact framework.\\n\\nSpeaking Experience: \\n\\nSpoke at numerous global leadership and technology conferences including PMI, ICF, National\\nToastmasters Conference, and University of Bradford.\\nHost, curator and speaker at the Inspirational leadership summit where global thought leaders\\nlike Daniel Goleman, Dr. Richard Boyatzis, Tal Ben-Shahar, Marshall Goldsmith, Art Markman,\\nDorie Clark, Debashis Chatterjee got together to share breakthrough ideas on Strategy,\\nLeadership and Culture.\\n\\nVoluntary Experience:\\n\\n- Leading business division of Happiness studies academy to promote Happiness.\\n- Running youth leadership programs to build Leadership skills.\\n- Coaching & Mentoring Startups to promote Entrepreneurship.\\n- Mentoring Toastmasters to enhance Communication and Leadership skills.\\n\\nEducation and Training:\\n\\n- MBA (University of Bradford, UK) â€“ Distinction - (uni_bradford.png)\\n- Diploma in Advanced Software Technology (CMC, Government of India Enterprise) - (govt_india.png)\\nDistinction\\n- Advanced Diploma in Computer Programming (CDAC, Dept of Electronics, Government of\\nIndia) - Distinction - (govt_india.png)\\n- BAMS (Mumbai University, India) - First Class - (mumbai_uni.jpg)\\nProfessional Certifications\\n- PMP (Project Management Institute)\\n- EMCC Senior Practitioner\\n- ACC (International Coach Federation)\\n- Marshall Goldsmith Certified Executive and Team Coach\\n- Daniel Goleman Certified Emotional Intelligence Coach and Associate\\n\\nAwards:\\n\\n- Star award for Project Management\\n- Outstanding Team Player award\\n- Outstanding Individual Contributor awards\\n- Women in Business Stevie Awards â€“ Coach, Mentor of the year\\n- 100 Global Inspirational thought leaders by People Hum\\n\\nCompetencies: \\n\\n- Inspirational Leadership\\n- Coaching & Mentoring\\n- Strategic Planning\\n- Portfolio, Program, Project Management\\n- Change Management\\n- People Management\\n- Risk Management\\n- Vendor Management\\n- Stakeholder Management\\n\\nSkills:\\n\\n- Leadership skills\\n- Emotional Intelligence and Interpersonal skills\\n- Strategic thinking, Critical thinking and Decision making skills\\n- Strong planning, Organization and Time management skills\\n- Problem solving, Negotiation skills\\n- Excellent written and oral Communication skills\\n\\nAI:\\n% latex output\\n\\n%----------------------------------------------------------------------------------------\\n%\\tPACKAGES AND OTHER DOCUMENT CONFIGURATIONS\\n%----------------------------------------------------------------------------------------\\n\\n\\\\documentclass[9pt]{developercv} % Default font size, values from 8-12pt are recommended\\n\\\\usepackage{multicol}\\n\\\\setlength{\\\\columnsep}{0mm}\\n%----------------------------------------------------------------------------------------\\n\\\\usepackage{lipsum}  \\n\\n\\n\\\\begin{document}\\n\\n%----------------------------------------------------------------------------------------\\n%\\tTITLE AND CONTACT INFORMATION\\n%----------------------------------------------------------------------------------------\\n\\n\\\\begin{minipage}[t]{0.5\\\\textwidth} \\n\\t\\\\vspace{-\\\\baselineskip} % Required for vertically aligning minipages\\n\\t\\n\\t{ \\\\fontsize{16}{20} \\\\textcolor{black}{\\\\textbf{\\\\MakeUppercase{Archana Shetty}}}} % First name\\n\\t\\n\\t\\\\vspace{6pt}\\n\\t\\n\\t{\\\\Large IT Executive $\\\\sim$ Coach} % Career or current job title\\n\\\\end{minipage}\\n\\\\hfill\\n\\\\begin{minipage}[t]{0.3\\\\textwidth} % 30% of the page width for the first row of icons\\n\\t\\\\vspace{-\\\\baselineskip} % Required for vertically aligning minipages\\n\\t\\n\\t% icon has 3 parameters\\n\\t% The first parameter is the FontAwesome icon name, the second is the box size and the third is the link. In 3rd parameter there are 2 arguments, first is actual link, second is what shows on the PDF once rendered\\n\\t\\\\icon{Phone}{11}{+97455284192}\\\\\\\\\\n    \\\\icon{MapMarker}{11}{Doha, Qatar}\\\\\\\\\\n\\t\\n\\\\end{minipage}\\n\\n%----------------------------------------------------------------------------------------\\n%\\tINTRODUCTION, SKILLS AND TECHNOLOGIES\\n%----------------------------------------------------------------------------------------\\n\\n\\\\begin{minipage}[t]{0.46\\\\textwidth}\\n    %Add a professional user summary here\\n    \\\\cvsect{Summary}\\n\\t\\\\vspace{-6pt}\\n \\n    %Dummy text- remove and replace with summary text there\\n\\tA seasoned IT executive with over two decades of experience in IT leadership and management. Certified in Executive Leadership and Team Coaching, with a proven track record in leading digital transformational programs and strategic initiatives. Experienced in managing large-scale integration programs and leading cross-functional teams in a multi-national, multicultural, global environment.\\\\\\\\\\n\\\\end{minipage}\\n\\\\hfill % Whitespace between\\n\\\\begin{minipage}[t]{0.465\\\\textwidth}\\n   %Section for skills\\n    \\\\cvsect{Skills}\\n    \\\\vspace{4mm}\\n    \\n    \\\\begin{minipage}[t]{0.2\\\\textwidth}\\n% Add list of technologies known by user - Remove section if user information not available\\n        \\\\textbf{Skills:}\\n    \\\\end{minipage}\\n    \\\\hfill\\n    \\\\begin{minipage}[t]{0.73\\\\textwidth}\\n      Leadership and Emotional Intelligence, Strategic and Critical Thinking, Decision Making, Planning, Organization, and Time Management, Problem Solving and Negotiation\\n    \\\\end{minipage}\\n    \\n\\\\end{minipage}\\n\\n%----------------------------------------------------------------------------------------\\n%\\tEXPERIENCE\\n%----------------------------------------------------------------------------------------\\n\\\\vspace{-10 pt}\\n\\\\cvsect{Experience}\\n\\\\begin{entrylist}\\n\\t\\\\entry\\n        {2023 -- Present} % replace argument with from date and to date \\n\\t\\t{Vice President, group IT projects}  % replace argument with role name here\\n\\t\\t{Qatar National Bank}  % replace argument with company name here\\n\\t\\t{\\\\vspace{-10pt}\\n        \\\\begin{itemize}[noitemsep,topsep=0pt,parsep=0pt,partopsep=0pt, leftmargin=-1pt]\\n            \\\\item Oversaw strategic planning and execution of projects aligned with the bank\\'s vision.\\n            \\\\item Managed portfolio components, ensuring a balanced mix of optimization and innovation projects.\\n            \\\\item Responsible for resource and budget management across the portfolio, leading multicultural global teams and managing multiple stakeholders within and outside the organization.\\n        \\\\end{itemize} \\n        } % add skills and technologies of job role here\\n\\t\\\\entry\\n\\t\\t{2016 -- 2022}\\n\\t\\t{Senior project manager, group IT Portfolio}\\n\\t\\t{Qatar National Bank}\\n\\t\\t{\\\\vspace{-10pt}\\n        \\\\begin{itemize}[noitemsep,topsep=0pt,parsep=0pt,partopsep=0pt, leftmargin=-1pt]\\n            \\\\item Managed large-scale payment systems portfolio and end-to-end implementations.\\n            \\\\item Led strategic transformational projects on digital transformation for Qatar and international branches.\\n            \\\\item Managed multicultural \\\\& cross-functional teams in a remote and distributed environment.\\n        \\\\end{itemize} \\n        }\\n\\t\\\\entry\\n\\t\\t{2011 -- 2015}\\n\\t\\t{Project manager}\\n\\t\\t{Qatar National Bank}\\n\\t\\t{\\\\vspace{-10pt}\\n        \\\\begin{itemize}[noitemsep,topsep=0pt,parsep=0pt,partopsep=0pt, leftmargin=-1pt]\\n            \\\\item Executed projects within the scope, time, and budget.\\n            \\\\item Led change initiatives through effective stakeholder management and people engagement.\\n        \\\\end{itemize} \\n        }\\n    \\\\entry\\n\\t\\t{2006 -- 2010}\\n\\t\\t{Senior Systems Analyst}\\n\\t\\t{Qatar National Bank}\\n\\t\\t{\\\\vspace{-10pt}\\n        \\\\begin{itemize}[noitemsep,topsep=0pt,parsep=0pt,partopsep=0pt, leftmargin=-1pt]\\n            \\\\item Analyzed and developed over 25 systems to support Operations, Retail, and Corporate line of business.\\n        \\\\end{itemize} \\n        }\\n    \\\\entry\\n\\t\\t{2000 -- 2005}\\n\\t\\t{System Analyst}\\n\\t\\t{Qatar Radio \\\\& TV Corporation}\\n\\t\\t{\\\\vspace{-10pt}\\n        \\\\begin{itemize}[noitemsep,topsep=0pt,parsep=0pt,partopsep=0pt, leftmargin=-1pt]\\n            \\\\item Conducted technical and system analysis for technology upgrade and process improvement initiatives.\\n        \\\\end{itemize} \\n        }\\n\\\\end{entrylist}\\n\\n%----------------------------------------------------------------------------------------\\n%\\tEDUCATION\\n%----------------------------------------------------------------------------------------\\n\\\\vspace{-10 pt}\\n\\\\cvsect{Education}\\n\\\\begin{entrylist}\\n    \\\\entry\\n\\t\\t{} % replace argument with from date and to date \\n\\t\\t{MBA (Distinction)} % replace with type of degree i.e Bachelors, Masters ,PhD\\n\\t\\t{University of Bradford, UK} % replace with type of education. Example: University, skill school etc\\n\\t\\t{} % Enter brief description of learning from this education relevant to job here\\n    \\\\entry\\n\\t\\t{}\\n\\t\\t{Diploma in Advanced Software Technology (Distinction)}\\n\\t\\t{CMC, Government of India Enterprise}\\n\\t\\t{}\\n\\t\\\\entry\\n\\t\\t{}\\n\\t\\t{Advanced Diploma in Computer Programming (Distinction)}\\n\\t\\t{CDAC, Dept of Electronics, Government of India}\\n\\t\\t{}\\n\\t\\\\entry\\n\\t\\t{}\\n\\t\\t{BAMS (First Class)}\\n\\t\\t{Mumbai University, India}\\n\\t\\t{}\\n\\\\end{entrylist}\\n\\n%----------------------------------------------------------------------------------------\\n%\\tCERTIFICATIONS\\n%----------------------------------------------------------------------------------------\\n\\\\vspace{-10 pt}\\n\\\\cvsect{Certifications}\\n\\\\begin{entrylist}\\n    \\\\entry\\n\\t\\t{} % replace argument with from date and to date \\n\\t\\t{PMP (Project Management Institute)} % replace with type of degree i.e Bachelors, Masters ,PhD\\n\\t\\t{} % replace with type of education. Example: University, skill school etc\\n\\t\\t{} % Enter brief description of learning from this education relevant to job here\\n    \\\\entry\\n\\t\\t{}\\n\\t\\t{EMCC Senior Practitioner}\\n\\t\\t{}\\n\\t\\t{}\\n\\t\\\\entry\\n\\t\\t{}\\n\\t\\t{ACC (International Coach Federation)}\\n\\t\\t{}\\n\\t\\t{}\\n\\t\\\\entry\\n\\t\\t{}\\n\\t\\t{Marshall Goldsmith Certified Executive and Team Coach}\\n\\t\\t{}\\n\\t\\t{}\\n    \\\\entry\\n\\t\\t{}\\n\\t\\t{Daniel Goleman Certified Emotional Intelligence Coach and Associate}\\n\\t\\t{}\\n\\t\\t{}\\n\\\\end{entrylist}\\n\\n%----------------------------------------------------------------------------------------\\n\\n\\\\end{document}\\n\\nHuman:\\nHere is my professional information:\\nName: Rafal Hyatt\\nAddress: United States\\nPhone: \\n\\nAbout:\\n\\nSkilled in providing leadership, direction, strategy, and vision in the areas of technology/product development to facilitate and enable growth and business agility. Proven strong liaison between end customer, commercial, technical, and innovation teams to meet enterprise requirements and objectives. An ambitious professional with a proven record managing complex projects, strategic initiatives, and reporting solutions.\\n\\n\\n---------------------------------------------------------------------------------------------------\\n\\nExperience:\\n\\n\\nSenior Project Manager\\nEssent Biologics\\nJun 2021 - Jul 2023 · 2 yrs 2 mos\\nCentennial, Colorado, United States\\n•Established and implemented PMO structure within the organization\\n•Strategized, developed, and managed PMO portfolio\\n•Built and delivered detailed reports and presentations for executive management \\n•Drafted, negotiated, and implemented supply agreements, statements of work, and tech transfers for CDMO customers\\n•Led functional teams to draft and ensure the SOW elements are accurate, that all financials and milestones are aligned, and ensured contract elements are completed\\n•Managed customer relations and business development opportunities\\n•Led planning for the implementation and development of new products and product improvement\\n•Established methodology and tools for resource capacity planning and tracking\\n•Track and report contracts performance, including financial, delivery metrics, revenue change log, invoices, and change orders\\n•Led discussion on Balanced Scorecard progress, obstacles, and achievements\\n\\n\\nAlloSource®\\n3 yrs 11 mos3 yrs 11 mos\\nCentennial, ColoradoCentennial, Colorado\\nProject Manager and Strategy Planner \\nOct 2018 - Jun 2021 · 2 yrs 9 mos\\nKey Accountabilities:\\n● Responsible for ensuring projects are completed on time, on budget and within defined scope; includes providing workflow leadership and direction to up to 30 employees, as well as external vendors\\n● Relied upon to contribute executive reporting and insightful briefing of strategic initiatives and/or projects\\n● Seamlessly coordinates and diligently drives Portfolio Management; includes serving as liaison coordinator for enterprise projects to facilitate resource management\\n\\nKey Accomplishments:\\n● Currently thriving in role managing 3 different projects concurrently:\\n● Drives new product launch with new equipment development, which includes working with external vendor to design the equipment; successfully utilizes Lean Methodology to streamline the manufacturing process\\n● Pioneered data resourcing for tracking and trending metrics that educate decision makingKey Accountabilities: ● Responsible for ensuring projects are completed on time, on budget and within defined scope; includes providing workflow leadership and direction to up to 30 employees, as well as external vendors ● Relied upon to contribute executive reporting and insightful briefing of strategic initiatives and/or projects ● Seamlessly coordinates and diligently drives Portfolio Management; includes serving as liaison coordinator for enterprise projects to facilitate resource management Key Accomplishments: ● Currently thriving in role managing 3 different projects concurrently: ● Drives new product launch with new equipment development, which includes working with external vendor to design the equipment; successfully utilizes Lean Methodology to streamline the manufacturing process ● Pioneered data resourcing for tracking and trending metrics that educate decision making\\n\\nSenior Quality System Specialist\\nAug 2017 - Oct 2018 · 1 yr 3 mos\\nKey Accountabilities:\\n● Responsible for orchestrating a complete overhaul of Equipment Management software and processes; managed technology implementation project, wrote new procedures, enriched data visualization and trained personnel\\n● Relied upon to manage Quality Effectiveness, FDA/Regulatory Compliance, Metrics/Reporting and Training \\n● Facilitate insightful advisory discussions regarding CAPAs, Nonconformance and Change Controls\\n\\nKey Accomplishments:\\n● Successfully managed RAM system implementation; ensured 100% FDA and Regulatory Agency complianceKey Accountabilities: ● Responsible for orchestrating a complete overhaul of Equipment Management software and processes; managed technology implementation project, wrote new procedures, enriched data visualization and trained personnel ● Relied upon to manage Quality Effectiveness, FDA/Regulatory Compliance, Metrics/Reporting and Training ● Facilitate insightful advisory discussions regarding CAPAs, Nonconformance and Change Controls Key Accomplishments: ● Successfully managed RAM system implementation; ensured 100% FDA and Regulatory Agency compliance\\n\\nBaxter International Inc. logo\\nQuality Assurance Specialist\\nBaxter International Inc.\\nNov 2015 - Jan 2017 · 1 yr 3 mos\\nEnglewood, Colorado\\nKey Accountabilities:\\n● Responsible for skillfully managing Medical Device Reporting, FDA Compliance, Metrics Development/Reporting and Complaint Handling/Resolution \\n● Relied upon to contribute a data-driven approach to improving reporting capabilities and process effectiveness \\n● Proficiently managed tracking, evaluation and submission of Medical Device Reports to the FDA by leveraging complaint system tools\\n\\nKey Accomplishments:\\n● Effectively collaborated with process and management teams to refine Medical Device Reporting process in order to improve the timeliness of submission and report completion\\n● Enabled a 100% report acceptance rate with a 0 Report-Return Rate\\n\\n---------------------------------------------------------------------------------------------------\\n\\nEducation:\\n\\nColorado Technical University\\nMaster of Science in Management, Project Management\\n2016 - 2017\\n\\nCalifornia State University - East Bay\\nPost Grad Certificate, Biotechnology\\n2011 - 2012\\n\\n\\n\\n---------------------------------------------------------------------------------------------------\\n\\nLicenses:\\n\\n\\nBusiness Strategy Certificate\\nCornell University\\nIssued Dec 2020\\n-----------------------------------------------------------------------------------------------------\\nSkills:\\n\\nStrategic Planning\\n\\nProgram Management\\n\\nQuality Control\\n\\nProject Delivery\\n\\nProject Portfolio Management\\n\\nContinuous Improvement\\n\\nStrategy\\n\\nGood Manufacturing Practice (GMP)\\n\\nProblem Solving\\n\\nBudgeting & Forecasting\\n\\nStandard Operating Procedure (SOP)\\nExpense Management\\n\\nCommercial Finance\\n\\nTeam Leadership\\n\\nSales Planning\\n\\nPresentation Skills\\n\\n\\nAI:\\n% latex output\\n\\n%----------------------------------------------------------------------------------------\\n%\\tPACKAGES AND OTHER DOCUMENT CONFIGURATIONS\\n%----------------------------------------------------------------------------------------\\n\\n\\\\documentclass[9pt]{developercv} % Default font size, values from 8-12pt are recommended\\n\\\\usepackage{multicol}\\n\\\\setlength{\\\\columnsep}{0mm}\\n%----------------------------------------------------------------------------------------\\n\\\\usepackage{lipsum}  \\n\\n\\n\\\\begin{document}\\n\\n%----------------------------------------------------------------------------------------\\n%\\tTITLE AND CONTACT INFORMATION\\n%----------------------------------------------------------------------------------------\\n\\n\\\\begin{minipage}[t]{0.5\\\\textwidth} \\n\\t\\\\vspace{-\\\\baselineskip} % Required for vertically aligning minipages\\n\\t\\n\\t{ \\\\fontsize{16}{20} \\\\textcolor{black}{\\\\textbf{\\\\MakeUppercase{Rafal Hyatt}}}} % First name\\n\\t\\n\\t\\\\vspace{6pt}\\n\\t\\n\\t{\\\\Large Senior Project Manager} % Career or current job title\\n\\\\end{minipage}\\n\\\\hfill\\n\\\\begin{minipage}[t]{0.3\\\\textwidth} % 30% of the page width for the first row of icons\\n\\t\\\\vspace{-\\\\baselineskip} % Required for vertically aligning minipages\\n\\t% icon has 3 parameters\\n\\t% The first parameter is the FontAwesome icon name, the second is the box size and the third is the link. In 3rd parameter there are 2 arguments, first is actual link, second is what shows on the PDF once rendered\\n    \\\\icon{MapMarker}{11}{United States}\\\\\\\\\\n\\t\\n\\\\end{minipage}\\n%----------------------------------------------------------------------------------------\\n%\\tINTRODUCTION, SKILLS AND TECHNOLOGIES\\n%----------------------------------------------------------------------------------------\\n\\n\\\\begin{minipage}[t]{0.46\\\\textwidth}\\n    %Add a professional user summary here\\n    \\\\cvsect{Summary}\\n\\t\\\\vspace{-6pt}\\n \\n    %Dummy text- remove and replace with summary text there\\n\\tA seasoned professional adept at providing strategic leadership and vision in technology/product development to foster business growth and agility. Demonstrated expertise in bridging the gap between end customers, commercial, technical, and innovation teams to meet enterprise requirements and objectives. A driven professional with a track record of managing complex projects, strategic initiatives, and reporting solutions.\\\\\\\\\\n\\\\end{minipage}\\n\\\\hfill % Whitespace between\\n\\\\begin{minipage}[t]{0.465\\\\textwidth}\\n   %Section for skills\\n    \\\\cvsect{Skills}\\n    \\\\vspace{-6pt}\\n    \\n    \\\\begin{minipage}[t]{0.2\\\\textwidth}\\n\\t% Add list of programming languages known by user - Remove section if user information not available\\n        \\\\textbf{Skills:}\\n    \\\\end{minipage}\\n    \\\\hfill\\n    \\\\begin{minipage}[t]{0.73\\\\textwidth}\\n      Strategic Planning, Program Management, Quality Control, Project Delivery, Project Portfolio Management, Continuous Improvement, Strategy, Good Manufacturing Practice (GMP),  Budgeting \\\\& Forecasting, Standard Operating Procedure (SOP), Expense Management, Commercial Finance, Team Leadership, Sales Planning\\n    \\\\end{minipage}\\n    \\\\vspace{4mm}\\n    \\n\\\\end{minipage}\\n\\n%----------------------------------------------------------------------------------------\\n%\\tEXPERIENCE\\n%----------------------------------------------------------------------------------------\\n\\\\vspace{-10 pt}\\n\\\\cvsect{Experience}\\n\\\\begin{entrylist}\\n\\t\\\\entry\\n        {Jun 21 -- Jul 23} % replace argument with from date and to date \\n\\t\\t{Senior Project Manager}  % replace argument with role name here\\n\\t\\t{Essent Biologics}  % replace argument with company name here\\n\\t\\t{\\\\vspace{-10pt}\\n        \\\\begin{itemize}[noitemsep,topsep=0pt,parsep=0pt,partopsep=0pt, leftmargin=-1pt]\\n            \\\\item Established and managed PMO structure and portfolio, ensuring efficient project oversight and delivery.\\n            \\\\item Negotiated and implemented supply agreements and tech transfers, fostering strong client relationships and business growth.\\n            \\\\item Led teams in project planning, product development, and contract management, driving successful outcomes and performance improvement.\\n        \\\\end{itemize} \\n        }\\n\\t\\\\entry\\n\\t\\t{Oct 18 -- Jun 21}\\n\\t\\t{Project Manager and Strategy Planner}\\n\\t\\t{AlloSource®}\\n\\t\\t{\\\\vspace{-10pt}\\n        \\\\begin{itemize}[noitemsep,topsep=0pt,parsep=0pt,partopsep=0pt, leftmargin=-1pt]\\n            \\\\item Ensured timely and within-budget completion of projects while maintaining scope adherence.\\n            \\\\item Provided executive reporting and strategic insights, driving informed decision-making.\\n            \\\\item Coordinated portfolio management, managing multiple projects concurrently and driving new product launches with innovative methodologies.\\n        \\\\end{itemize} \\n        }\\n\\t\\\\entry\\n\\t\\t{Aug 17 -- Oct 18}\\n\\t\\t{Senior Quality System Specialist}\\n\\t\\t{AlloSource®}\\n\\t\\t{\\\\vspace{-10pt}\\n        \\\\begin{itemize}[noitemsep,topsep=0pt,parsep=0pt,partopsep=0pt, leftmargin=-1pt]\\n            \\\\item Orchestrated a complete overhaul of Equipment Management software and processes\\n            \\\\item Managed Quality Effectiveness, FDA/Regulatory Compliance, Metrics/Reporting and Training \\n            \\\\item Facilitated advisory discussions regarding CAPAs, Nonconformance and Change Controls\\n            \\\\item Successfully managed RAM system implementation; ensured 100\\\\% FDA and Regulatory Agency compliance\\n        \\\\end{itemize} \\n        }\\n\\t\\\\entry\\n\\t\\t{Nov 15 -- Jan 17}\\n\\t\\t{Quality Assurance Specialist}\\n\\t\\t{Baxter International Inc.}\\n\\t\\t{\\\\vspace{-10pt}\\n        \\\\begin{itemize}[noitemsep,topsep=0pt,parsep=0pt,partopsep=0pt, leftmargin=-1pt]\\n            \\\\item Managed Medical Device Reporting, FDA Compliance, Metrics Development/Reporting and Complaint Handling/Resolution \\n            \\\\item Contributed a data-driven approach to improving reporting capabilities and process effectiveness \\n            \\\\item Managed tracking, evaluation and submission of Medical Device Reports to the FDA\\n            \\\\item Collaborated with process and management teams to refine Medical Device Reporting process\\n            \\\\item Enabled a 100\\\\% report acceptance rate with a 0 Report-Return Rate\\n        \\\\end{itemize} \\n        }\\n\\\\end{entrylist}\\n\\n%----------------------------------------------------------------------------------------\\n%\\tEDUCATION\\n%----------------------------------------------------------------------------------------\\n\\\\vspace{-10 pt}\\n\\\\cvsect{Education}\\n\\\\begin{entrylist}\\n    \\\\entry\\n\\t\\t{2016 - 2017} % replace argument with from date and to date \\n\\t\\t{Master of Science in Management, Project Management} % replace with type of degree i.e Bachelors, Masters ,PhD\\n\\t\\t{Colorado Technical University} % replace with type of education. Example: University, skill school etc\\n\\t\\t{} % Enter brief description of learning from this education relevant to job here\\n    \\\\entry\\n\\t\\t{2011 - 2012}\\n\\t\\t{Post Grad Certificate, Biotechnology}\\n\\t\\t{California State University - East Bay}\\n\\t\\t{}\\n\\\\end{entrylist}\\n\\n%----------------------------------------------------------------------------------------\\n%\\tCERTIFICATIONS\\n%----------------------------------------------------------------------------------------\\n\\\\vspace{-10 pt}\\n\\\\cvsect{Certifications}\\n\\\\begin{entrylist}\\n    \\\\entry\\n\\t\\t{Dec 20}\\n\\t\\t{Business Strategy Certificate}\\n\\t\\t{Cornell University}\\n\\t\\t{}\\n\\\\end{entrylist}\\n\\n%----------------------------------------------------------------------------------------\\n\\n\\\\end{document}\\n'"
     },
     "execution_count": 11,
     "metadata": {},
     "output_type": "execute_result"
    }
   ],
   "source": [
    "latex_content_bytes"
   ],
   "metadata": {
    "collapsed": false,
    "ExecuteTime": {
     "end_time": "2024-09-07T06:56:29.803225900Z",
     "start_time": "2024-09-07T06:56:29.746224900Z"
    }
   },
   "id": "cb696272a34ed04e"
  },
  {
   "cell_type": "code",
   "execution_count": 13,
   "outputs": [
    {
     "data": {
      "text/plain": "\"%%%%%%%%%%%%%%%%%%%%%%%%%%%%%%%%%%%%%%%%%\\n% Long letter 长安大学版 Chang'an University Version\\n% Version 1.0 (2024-01-23)\\n\\n% This template was revised by Shuaiming Chen(chenshuaiming@chd.edu.com) based on Zheng-hu Nie(brian.nie@gmail.com).\\n\\n%%%%%%%%%%%%%%%%%%%%%%%%%%%%%%%%%%%%%%%%%\\n\\n%----------------------------------------------------------------------------------------\\n%\\tPACKAGES AND OTHER DOCUMENT CONFIGURATIONS 文档基础配置\\n%----------------------------------------------------------------------------------------\\n\\n\\\\documentclass{article}\\n\\n\\\\usepackage{charter} % Use the Charter font\\n\\n\\\\usepackage[\\n\\ta4paper, % Paper size\\n\\ttop=1in, % Top margin\\n\\tbottom=1in, % Bottom margin\\n\\tleft=1in, % Left margin\\n\\tright=1in, % Right margin\\n\\t%showframe % Uncomment to show frames around the margins for debugging purposes\\n]{geometry}\\n\\n\\\\setlength{\\\\parindent}{0pt} % Paragraph indentation\\n\\\\setlength{\\\\parskip}{1em} % Vertical space between paragraphs\\n\\n\\\\usepackage{graphicx} % Required for including images\\n\\n\\\\usepackage{fancyhdr} % Required for customizing headers and footers\\n\\n\\\\fancypagestyle{firstpage}{%\\n\\t\\\\fancyhf{} % Clear default headers/footers\\n\\t\\\\renewcommand{\\\\headrulewidth}{0pt} % No header rule\\n\\t\\\\renewcommand{\\\\footrulewidth}{1pt} % Footer rule thickness\\n}\\n\\n\\\\fancypagestyle{subsequentpages}{%\\n\\t\\\\fancyhf{} % Clear default headers/footers\\n\\t\\\\renewcommand{\\\\headrulewidth}{1pt} % Header rule thickness\\n\\t\\\\renewcommand{\\\\footrulewidth}{1pt} % Footer rule thickness\\n}\\n\\n\\\\AtBeginDocument{\\\\thispagestyle{firstpage}} % Use the first page headers/footers style on the first page\\n\\\\pagestyle{subsequentpages} % Use the subsequent pages headers/footers style on subsequent pages\\n\\n%----------------------------------------------------------------------------------------\\n\\n\\\\begin{document}\\n\\n%----------------------------------------------------------------------------------------\\n%\\tFIRST PAGE HEADER\\n%----------------------------------------------------------------------------------------\\n\\n%\\\\includegraphics[width=0.35\\\\textwidth]{chd.png} % Logo\\n\\n\\\\vspace{-1em} % Pull the rule closer to the logo\\n\\n\\\\rule{\\\\linewidth}{1pt} % Horizontal rule\\n\\n\\\\bigskip\\\\bigskip % Vertical whitespace\\n\\n%----------------------------------------------------------------------------------------\\n%\\tYOUR NAME AND CONTACT INFORMATION\\n%----------------------------------------------------------------------------------------\\n\\n\\\\hfill\\n\\\\begin{tabular}{l @{}}\\n\\\\hfill \\\\today \\\\bigskip\\\\\\\\ % Date\\n\\\\hfill [your name] \\\\\\\\\\n\\\\hfill Email: xxx@chd.edu.cn \\\\\\\\\\n\\\\hfill Middle-section of Nan’er Huan Road\\\\\\\\\\n\\\\hfill Xi’an City, Shaanxi Province, 710064, China \\\\\\\\ % Address\\n\\\\end{tabular}\\n\\n\\\\bigskip % Vertical whitespace\\n\\n%----------------------------------------------------------------------------------------\\n%\\tADDRESSEE AND GREETING\\n%----------------------------------------------------------------------------------------\\n\\n\\\\begin{tabular}{@{} l}\\n\\tProfessor\\\\ [Editor Name] \\\\\\\\\\n\\tEditor-in-chief \\\\\\\\\\n\\t\\\\textit{Journal Name}\\n\\\\end{tabular}\\n\\n\\\\bigskip % Vertical whitespace\\n\\nDear Prof.\\\\ [Editor name],\\n\\n\\\\bigskip % Vertical whitespace\\n\\n%----------------------------------------------------------------------------------------\\n%\\tLETTER CONTENT\\n%----------------------------------------------------------------------------------------\\n\\n\\n\\nDear [hiring manager name here],\\nMy name is [your name here] and I am a seasoned [industry or trade here] professional\\nwith over [number] years of experience. I recently came across your [job title] posting on\\n[where you found it] and I’m writing to express my interest in helping [company name here]\\nachieve [xyz].\\nIn my current role as a [your current role] at [your current company], I am responsible for\\n[responsibility \\\\#1], [responsibility \\\\#2], and [responsibility \\\\#3]. The professional experience\\nI’ve gained during my time here has helped me to [achievement \\\\#1] and [achievement \\\\#2],\\nwhile improving my overall [focus area] knowledge.\\nPrior to this position, I spent [number] years working as a [previous role] for [previous\\ncompany]. In this role, I was tasked with a handful of unique challenges, including [challenge\\n\\\\#1] and [challenge \\\\#2]. Over the course of my time there, I was able to overcome and\\nredefine these challenges by [action \\\\#1], [action \\\\#2], and [action \\\\#3].\\nI’ve attached my resume for further review. Please do not hesitate to reach out via phone or\\nemail if you’d like to speak about my experience in more detail: [email address] and [phone\\nnumber].\\nThank you for your consideration.\\n\\n\\\\bigskip % Vertical whitespace\\n\\nSincerely yours,\\n\\n\\\\vspace{20pt} % Vertical whitespace\\n\\n[Your name] (on on behalf of all authors)\\\\\\\\\\nSchool of xxx, Chang'an University\\n\\n\\\\end{document}\\n\""
     },
     "execution_count": 13,
     "metadata": {},
     "output_type": "execute_result"
    }
   ],
   "source": [
    "latex_content_bytes"
   ],
   "metadata": {
    "collapsed": false,
    "ExecuteTime": {
     "end_time": "2024-04-24T09:48:09.842917200Z",
     "start_time": "2024-04-24T09:48:09.783321600Z"
    }
   },
   "id": "88e8d5a24e4dfa80"
  },
  {
   "cell_type": "code",
   "execution_count": 14,
   "outputs": [],
   "source": [
    "bucket = client.get_bucket('easy-cv-bucket')\n",
    "blobs = bucket.list_blobs(prefix='cv_templates/cv_template_1/')"
   ],
   "metadata": {
    "collapsed": false,
    "ExecuteTime": {
     "end_time": "2023-11-16T11:17:49.389909500Z",
     "start_time": "2023-11-16T11:17:49.215423700Z"
    }
   },
   "id": "8bb4b0cbe2a3939e"
  },
  {
   "cell_type": "code",
   "execution_count": 15,
   "outputs": [
    {
     "name": "stdout",
     "output_type": "stream",
     "text": [
      "\n",
      "bubblecv.sty\n",
      "main.tex\n",
      "resources/avatar.png\n",
      "resources/contact.png\n",
      "resources/cv.png\n",
      "resources/education.png\n",
      "resources/languages.png\n",
      "resources/person.png\n",
      "resources/publications.png\n",
      "resources/shresht_photo.jpg\n",
      "resources/skills.png\n",
      "resources/summary.png\n",
      "resources/target.png\n",
      "resources/work.png\n"
     ]
    }
   ],
   "source": [
    "for blob in blobs:\n",
    "  print(blob.name[len('cv_templates/cv_template_1/'):])"
   ],
   "metadata": {
    "collapsed": false,
    "ExecuteTime": {
     "end_time": "2023-11-16T11:17:50.426213600Z",
     "start_time": "2023-11-16T11:17:50.254698700Z"
    }
   },
   "id": "e004568377cd0502"
  },
  {
   "cell_type": "code",
   "execution_count": 20,
   "outputs": [],
   "source": [
    "import os\n",
    "path1=os.path.join('.\\output', 'resources/work.png').replace(\"/\",\"\\\\\")\n",
    "os.makedirs(os.path.dirname(path1), exist_ok=True)"
   ],
   "metadata": {
    "collapsed": false,
    "ExecuteTime": {
     "end_time": "2023-11-16T11:24:41.484713800Z",
     "start_time": "2023-11-16T11:24:41.469713Z"
    }
   },
   "id": "8f31cd9b5d1ea2e"
  },
  {
   "cell_type": "code",
   "execution_count": 22,
   "outputs": [
    {
     "name": "stdout",
     "output_type": "stream",
     "text": [
      "Downloaded cv_templates/cv_template_1/bubblecv.sty to .\\output\\bubblecv.sty\n",
      "Downloaded cv_templates/cv_template_1/main.tex to .\\output\\main.tex\n",
      "Downloaded cv_templates/cv_template_1/resources/avatar.png to .\\output\\resources\\avatar.png\n",
      "Downloaded cv_templates/cv_template_1/resources/contact.png to .\\output\\resources\\contact.png\n",
      "Downloaded cv_templates/cv_template_1/resources/cv.png to .\\output\\resources\\cv.png\n",
      "Downloaded cv_templates/cv_template_1/resources/education.png to .\\output\\resources\\education.png\n",
      "Downloaded cv_templates/cv_template_1/resources/languages.png to .\\output\\resources\\languages.png\n",
      "Downloaded cv_templates/cv_template_1/resources/person.png to .\\output\\resources\\person.png\n",
      "Downloaded cv_templates/cv_template_1/resources/publications.png to .\\output\\resources\\publications.png\n",
      "Downloaded cv_templates/cv_template_1/resources/shresht_photo.jpg to .\\output\\resources\\shresht_photo.jpg\n",
      "Downloaded cv_templates/cv_template_1/resources/skills.png to .\\output\\resources\\skills.png\n",
      "Downloaded cv_templates/cv_template_1/resources/summary.png to .\\output\\resources\\summary.png\n",
      "Downloaded cv_templates/cv_template_1/resources/target.png to .\\output\\resources\\target.png\n",
      "Downloaded cv_templates/cv_template_1/resources/work.png to .\\output\\resources\\work.png\n"
     ]
    }
   ],
   "source": [
    "from google.cloud import storage\n",
    "import os\n",
    "\n",
    "def download_bucket_folder(bucket_name, source_folder, destination_dir):\n",
    "    \"\"\"Download all files from a specific folder in the GCS bucket to the local directory.\"\"\"\n",
    "    storage_client = storage.Client()\n",
    "    bucket = storage_client.get_bucket(bucket_name)\n",
    "\n",
    "    # Ensure the source folder path is correctly formatted\n",
    "    if not source_folder.endswith('/'):\n",
    "        source_folder += '/'\n",
    "\n",
    "    blobs = bucket.list_blobs(prefix=source_folder)  # List blobs in the specific folder\n",
    "\n",
    "    for blob in blobs:\n",
    "        # Removing the source folder path from the blob name\n",
    "        relative_path = blob.name[len(source_folder):]\n",
    "        if not relative_path:  # Skip if it's just the folder itself\n",
    "            continue\n",
    "\n",
    "        # Create local path for blob\n",
    "        local_path = os.path.join(destination_dir, relative_path)\n",
    "        local_path = local_path.replace(\"/\",\"\\\\\")\n",
    "        # Create necessary local directories\n",
    "        os.makedirs(os.path.dirname(local_path), exist_ok=True)\n",
    "\n",
    "        # Download the blob to the local path\n",
    "        blob.download_to_filename(local_path)\n",
    "        print(f\"Downloaded {blob.name} to {local_path}\")\n",
    "\n",
    "# Example usage\n",
    "download_bucket_folder(\"easy-cv-bucket\", \"cv_templates/cv_template_1/\", \".\\output\")\n"
   ],
   "metadata": {
    "collapsed": false,
    "ExecuteTime": {
     "end_time": "2023-11-16T11:28:56.828078600Z",
     "start_time": "2023-11-16T11:28:49.399570Z"
    }
   },
   "id": "531655bc85b3823"
  },
  {
   "cell_type": "code",
   "execution_count": 4,
   "outputs": [],
   "source": [
    "  # client = storage.Client()\n",
    "bucket = client.get_bucket(\"easy-cv-bucket\")\n",
    "\n",
    "  # Get the text document object.\n",
    "blob = bucket.blob('cl_templates/cl_template_1/main.tex')\n",
    "\n",
    "  # Download the text document.\n",
    "# text = blob.download_as_string().decode(\"utf-8\")"
   ],
   "metadata": {
    "collapsed": false,
    "ExecuteTime": {
     "end_time": "2023-11-05T09:51:46.101670Z",
     "start_time": "2023-11-05T09:51:45.951480200Z"
    }
   },
   "id": "45fe6fb560f5a665"
  },
  {
   "cell_type": "code",
   "execution_count": null,
   "outputs": [],
   "source": [
    "with open(blob)"
   ],
   "metadata": {
    "collapsed": false
   },
   "id": "8cd79041de49f829"
  },
  {
   "cell_type": "code",
   "execution_count": 5,
   "outputs": [
    {
     "name": "stdout",
     "output_type": "stream",
     "text": [
      "Name: Shresht Shetty (Photo: shresht_photo.jpg)\n",
      "Address: Maroochydore, Sunshine Coast\n",
      "Phone: +61478917105\n",
      "\n",
      "About:\n",
      "\n",
      "Data science enthusiast, a sports person with good problem solving and team building skills keen to assume new responsibilities and challenges:\n",
      "-Collaborated with cross functioning teams in the fields of insurance, finance (credit risk) and marketing to deliver high performing results\n",
      "-Has created automated workflow pipelines to deploy client models through github actions\n",
      "-Worked in fast paced environments to deliver high quality logistics optimization models to one of the largest grocery chains in Australia\n",
      "\n",
      "Core competencies:\n",
      "\n",
      "- Machine learning pipeline and ETL (Extract, Transform, Load).\n",
      "- AI and LLMs.\n",
      "- Mathematical Optimization\n",
      "- Data Analytics and Data Visualisation.\n",
      "- Workflow automation\n",
      "- CI/CD pipelines\n",
      "\n",
      "\n",
      "Languages:\n",
      "\n",
      "-Programming languages: Python (numpy, sklearn, pandas, matplotlib) , R , SQL, JAVA, Tensorflow.\n",
      "-Big data: AWS, Hadoop, Spark, SAS Enterprise Guide, SAS Studio.\n",
      "-Operations research: CPLEX, Gurobi\n",
      "\n",
      "\n",
      "Data Science and Machine Learning:\n",
      "\n",
      "-Skills: Model development & Deployment, Time-series, Image processing, Natural language processing\n",
      "-Tools: Langchain, Flask, Git, Python, Tensorflow, \n",
      "-Softwares: IBM CPLEX, IBM Watson Studio, AWS EC2, AWS ECR, AWS S3\n",
      "\n",
      "---------------------------------------------------------------------------------------------------\n",
      "\n",
      "Experience\n",
      "\n",
      "Data Scientist - BlueSky Creations (logo file: bsc.jpg)\n",
      "August 2021 - Present (2 years 3 months)\n",
      "\n",
      "-Built production scale optimzation software for one of Australia's biggest grocery chains to automate their distribution center operations. \n",
      "-Built conversational chatbots for company platform using LLMs and Langchain. \n",
      "-Built Optimization models such as transport routing, workforce optimization, operation theatre block scheduling models for the company platform.\n",
      "-Employed CI/CD pipelines and MLOps to build AI tools at the company.\n",
      "-Implemented automations in deployment using Github actions, collaborated with other team members using git.\n",
      "\n",
      "\n",
      "Research Assistant - The University of Queensland (logo file: uq.jpg)\n",
      "Jan 2020 - Aus 2021 (1 year 8 months)\n",
      "\n",
      "Conducted multiple experiments to study the impact of demographics on insurance fraud. In addition, studied the effect of insurance plan switching on spending. Furthermore, I used supervised machine learning models in python to study the effect of plan switching on expenditure. \n",
      "-Used Principal component analysis to identify fraudulent claims from insurance claims. Identified the top 10% claims had high suspicion levels.\n",
      "-Conducted various hypothesis tests to understand the difference in suspicion levels between different groups of people.\n",
      "-Worked through the data science pipeline that included cleaning data, manipulating data, regression analysis and testing.\n",
      "- Deployed the logistic regression model to study the effect plan switching has on expenditure.\n",
      "\n",
      "\n",
      "Machine Learning Engineer Intern - CRiskCo (logo file: criskco.jpg)\n",
      "Jun 2019 - April 2020 (11 months)\n",
      "\n",
      "Formed supervised machine learning credit risk models using random forest to identify defaulting companies:\n",
      "-Achieved a Recall of 100% and precision of 16.3% in identifying defaulting companies\n",
      "-Worked with cleaning of data and imputation of missing values: \n",
      " Non temporal features: MICE imputation and KNN imputation\n",
      " Temporal features: Kalman smoothing, LOCF imputation\n",
      "-Used machine learning techniques such as undersampling, oversampling, SMOTE sampling to handle the class imbalance.\n",
      "-Calculated Probability of Default (PD) for all companies, which indicates their creditworthiness.\n",
      "\n",
      "\n",
      "Data Officer - UQ Business School (logo file: uq_bs.png)\n",
      "March 2019 - June 2019 (4 months)\n",
      "\n",
      "Collaborated with the marketing team at UQ Business school to improve the data collection and segmentation process for their client, Queensland Treasury Corporation.\n",
      "-Analyzed and streamlined the data collection process for CRM data.\n",
      "-Imputed missing values, standardized the dataset to a single format for ease of use.\n",
      "-Manipulated data in 20+ databases to create a master database to reduce redundancy.\n",
      "-Delivered a technical presentation to the client that identified faults in their data collection system and included suggestions for improvement. The presentation also contained complex visualisations on segmentation of customers for effective e- marketing.\n",
      "\n",
      "---------------------------------------------------------------------------------------------------\n",
      "\n",
      "Education\n",
      "\n",
      "Masters in Data Science - The University of Queensland (logo file: uq.jpg)\n",
      "2018 - 2020\n",
      "\n",
      "Bachelors in Chemical Engineering - Manipal Institute of Technology (logo file: MU.jpg)\n",
      "2014 - 2018\n",
      "\n",
      "---------------------------------------------------------------------------------------------------\n",
      "\n",
      "Licenses & Certifications\n",
      "\n",
      "- Machine Learning Engineering for Production (MLOps) - Coursera - Dec 2021\n",
      "- AWS Solutions Architect Associate - Amazon Web Services - Issued Jan 2021 Expires Jan 2024\n",
      "- Deep learning specialisation - Coursera - Jan 2019\n",
      "\n",
      "\n",
      "-----------------------------------------------------------------------------------------------------\n"
     ]
    }
   ],
   "source": [
    "with blob.open(\"r\") as f:\n",
    "  print(f.read())"
   ],
   "metadata": {
    "collapsed": false,
    "ExecuteTime": {
     "end_time": "2023-11-05T09:51:47.676308Z",
     "start_time": "2023-11-05T09:51:47.494758900Z"
    }
   },
   "id": "fa572ae82e518b4c"
  },
  {
   "cell_type": "code",
   "execution_count": 29,
   "outputs": [
    {
     "ename": "Forbidden",
     "evalue": "403 GET https://storage.googleapis.com/download/storage/v1/b/easy-cv-bucket/o/user%2FShresht_Shetty%2Fuser_professional_information.txt?alt=media: The billing account for the owning project is disabled in state absent: ('Request failed with status code', 403, 'Expected one of', <HTTPStatus.OK: 200>, <HTTPStatus.PARTIAL_CONTENT: 206>)",
     "output_type": "error",
     "traceback": [
      "\u001B[1;31m---------------------------------------------------------------------------\u001B[0m",
      "\u001B[1;31mInvalidResponse\u001B[0m                           Traceback (most recent call last)",
      "File \u001B[1;32m~\\anaconda3\\envs\\ReviewAnalysis\\lib\\site-packages\\google\\cloud\\storage\\blob.py:4329\u001B[0m, in \u001B[0;36mBlob._prep_and_do_download\u001B[1;34m(self, file_obj, client, start, end, raw_download, if_etag_match, if_etag_not_match, if_generation_match, if_generation_not_match, if_metageneration_match, if_metageneration_not_match, timeout, checksum, retry, command)\u001B[0m\n\u001B[0;32m   4328\u001B[0m \u001B[38;5;28;01mtry\u001B[39;00m:\n\u001B[1;32m-> 4329\u001B[0m     \u001B[38;5;28;43mself\u001B[39;49m\u001B[38;5;241;43m.\u001B[39;49m\u001B[43m_do_download\u001B[49m\u001B[43m(\u001B[49m\n\u001B[0;32m   4330\u001B[0m \u001B[43m        \u001B[49m\u001B[43mtransport\u001B[49m\u001B[43m,\u001B[49m\n\u001B[0;32m   4331\u001B[0m \u001B[43m        \u001B[49m\u001B[43mfile_obj\u001B[49m\u001B[43m,\u001B[49m\n\u001B[0;32m   4332\u001B[0m \u001B[43m        \u001B[49m\u001B[43mdownload_url\u001B[49m\u001B[43m,\u001B[49m\n\u001B[0;32m   4333\u001B[0m \u001B[43m        \u001B[49m\u001B[43mheaders\u001B[49m\u001B[43m,\u001B[49m\n\u001B[0;32m   4334\u001B[0m \u001B[43m        \u001B[49m\u001B[43mstart\u001B[49m\u001B[43m,\u001B[49m\n\u001B[0;32m   4335\u001B[0m \u001B[43m        \u001B[49m\u001B[43mend\u001B[49m\u001B[43m,\u001B[49m\n\u001B[0;32m   4336\u001B[0m \u001B[43m        \u001B[49m\u001B[43mraw_download\u001B[49m\u001B[43m,\u001B[49m\n\u001B[0;32m   4337\u001B[0m \u001B[43m        \u001B[49m\u001B[43mtimeout\u001B[49m\u001B[38;5;241;43m=\u001B[39;49m\u001B[43mtimeout\u001B[49m\u001B[43m,\u001B[49m\n\u001B[0;32m   4338\u001B[0m \u001B[43m        \u001B[49m\u001B[43mchecksum\u001B[49m\u001B[38;5;241;43m=\u001B[39;49m\u001B[43mchecksum\u001B[49m\u001B[43m,\u001B[49m\n\u001B[0;32m   4339\u001B[0m \u001B[43m        \u001B[49m\u001B[43mretry\u001B[49m\u001B[38;5;241;43m=\u001B[39;49m\u001B[43mretry\u001B[49m\u001B[43m,\u001B[49m\n\u001B[0;32m   4340\u001B[0m \u001B[43m    \u001B[49m\u001B[43m)\u001B[49m\n\u001B[0;32m   4341\u001B[0m \u001B[38;5;28;01mexcept\u001B[39;00m resumable_media\u001B[38;5;241m.\u001B[39mInvalidResponse \u001B[38;5;28;01mas\u001B[39;00m exc:\n",
      "File \u001B[1;32m~\\anaconda3\\envs\\ReviewAnalysis\\lib\\site-packages\\google\\cloud\\storage\\blob.py:985\u001B[0m, in \u001B[0;36mBlob._do_download\u001B[1;34m(self, transport, file_obj, download_url, headers, start, end, raw_download, timeout, checksum, retry)\u001B[0m\n\u001B[0;32m    984\u001B[0m download\u001B[38;5;241m.\u001B[39m_retry_strategy \u001B[38;5;241m=\u001B[39m retry_strategy\n\u001B[1;32m--> 985\u001B[0m response \u001B[38;5;241m=\u001B[39m \u001B[43mdownload\u001B[49m\u001B[38;5;241;43m.\u001B[39;49m\u001B[43mconsume\u001B[49m\u001B[43m(\u001B[49m\u001B[43mtransport\u001B[49m\u001B[43m,\u001B[49m\u001B[43m \u001B[49m\u001B[43mtimeout\u001B[49m\u001B[38;5;241;43m=\u001B[39;49m\u001B[43mtimeout\u001B[49m\u001B[43m)\u001B[49m\n\u001B[0;32m    986\u001B[0m \u001B[38;5;28mself\u001B[39m\u001B[38;5;241m.\u001B[39m_extract_headers_from_download(response)\n",
      "File \u001B[1;32m~\\anaconda3\\envs\\ReviewAnalysis\\lib\\site-packages\\google\\resumable_media\\requests\\download.py:237\u001B[0m, in \u001B[0;36mDownload.consume\u001B[1;34m(self, transport, timeout)\u001B[0m\n\u001B[0;32m    235\u001B[0m     \u001B[38;5;28;01mreturn\u001B[39;00m result\n\u001B[1;32m--> 237\u001B[0m \u001B[38;5;28;01mreturn\u001B[39;00m \u001B[43m_request_helpers\u001B[49m\u001B[38;5;241;43m.\u001B[39;49m\u001B[43mwait_and_retry\u001B[49m\u001B[43m(\u001B[49m\n\u001B[0;32m    238\u001B[0m \u001B[43m    \u001B[49m\u001B[43mretriable_request\u001B[49m\u001B[43m,\u001B[49m\u001B[43m \u001B[49m\u001B[38;5;28;43mself\u001B[39;49m\u001B[38;5;241;43m.\u001B[39;49m\u001B[43m_get_status_code\u001B[49m\u001B[43m,\u001B[49m\u001B[43m \u001B[49m\u001B[38;5;28;43mself\u001B[39;49m\u001B[38;5;241;43m.\u001B[39;49m\u001B[43m_retry_strategy\u001B[49m\n\u001B[0;32m    239\u001B[0m \u001B[43m\u001B[49m\u001B[43m)\u001B[49m\n",
      "File \u001B[1;32m~\\anaconda3\\envs\\ReviewAnalysis\\lib\\site-packages\\google\\resumable_media\\requests\\_request_helpers.py:155\u001B[0m, in \u001B[0;36mwait_and_retry\u001B[1;34m(func, get_status_code, retry_strategy)\u001B[0m\n\u001B[0;32m    154\u001B[0m \u001B[38;5;28;01mtry\u001B[39;00m:\n\u001B[1;32m--> 155\u001B[0m     response \u001B[38;5;241m=\u001B[39m \u001B[43mfunc\u001B[49m\u001B[43m(\u001B[49m\u001B[43m)\u001B[49m\n\u001B[0;32m    156\u001B[0m \u001B[38;5;28;01mexcept\u001B[39;00m _CONNECTION_ERROR_CLASSES \u001B[38;5;28;01mas\u001B[39;00m e:\n",
      "File \u001B[1;32m~\\anaconda3\\envs\\ReviewAnalysis\\lib\\site-packages\\google\\resumable_media\\requests\\download.py:219\u001B[0m, in \u001B[0;36mDownload.consume.<locals>.retriable_request\u001B[1;34m()\u001B[0m\n\u001B[0;32m    215\u001B[0m     \u001B[38;5;28mself\u001B[39m\u001B[38;5;241m.\u001B[39m_object_generation \u001B[38;5;241m=\u001B[39m _helpers\u001B[38;5;241m.\u001B[39m_parse_generation_header(\n\u001B[0;32m    216\u001B[0m         result, \u001B[38;5;28mself\u001B[39m\u001B[38;5;241m.\u001B[39m_get_headers\n\u001B[0;32m    217\u001B[0m     )\n\u001B[1;32m--> 219\u001B[0m \u001B[38;5;28;43mself\u001B[39;49m\u001B[38;5;241;43m.\u001B[39;49m\u001B[43m_process_response\u001B[49m\u001B[43m(\u001B[49m\u001B[43mresult\u001B[49m\u001B[43m)\u001B[49m\n\u001B[0;32m    221\u001B[0m \u001B[38;5;66;03m# With decompressive transcoding, GCS serves back the whole file regardless of the range request,\u001B[39;00m\n\u001B[0;32m    222\u001B[0m \u001B[38;5;66;03m# thus we reset the stream position to the start of the stream.\u001B[39;00m\n\u001B[0;32m    223\u001B[0m \u001B[38;5;66;03m# See: https://cloud.google.com/storage/docs/transcoding#range\u001B[39;00m\n",
      "File \u001B[1;32m~\\anaconda3\\envs\\ReviewAnalysis\\lib\\site-packages\\google\\resumable_media\\_download.py:188\u001B[0m, in \u001B[0;36mDownload._process_response\u001B[1;34m(self, response)\u001B[0m\n\u001B[0;32m    187\u001B[0m \u001B[38;5;28mself\u001B[39m\u001B[38;5;241m.\u001B[39m_finished \u001B[38;5;241m=\u001B[39m \u001B[38;5;28;01mTrue\u001B[39;00m\n\u001B[1;32m--> 188\u001B[0m \u001B[43m_helpers\u001B[49m\u001B[38;5;241;43m.\u001B[39;49m\u001B[43mrequire_status_code\u001B[49m\u001B[43m(\u001B[49m\n\u001B[0;32m    189\u001B[0m \u001B[43m    \u001B[49m\u001B[43mresponse\u001B[49m\u001B[43m,\u001B[49m\u001B[43m \u001B[49m\u001B[43m_ACCEPTABLE_STATUS_CODES\u001B[49m\u001B[43m,\u001B[49m\u001B[43m \u001B[49m\u001B[38;5;28;43mself\u001B[39;49m\u001B[38;5;241;43m.\u001B[39;49m\u001B[43m_get_status_code\u001B[49m\n\u001B[0;32m    190\u001B[0m \u001B[43m\u001B[49m\u001B[43m)\u001B[49m\n",
      "File \u001B[1;32m~\\anaconda3\\envs\\ReviewAnalysis\\lib\\site-packages\\google\\resumable_media\\_helpers.py:108\u001B[0m, in \u001B[0;36mrequire_status_code\u001B[1;34m(response, status_codes, get_status_code, callback)\u001B[0m\n\u001B[0;32m    107\u001B[0m         callback()\n\u001B[1;32m--> 108\u001B[0m     \u001B[38;5;28;01mraise\u001B[39;00m common\u001B[38;5;241m.\u001B[39mInvalidResponse(\n\u001B[0;32m    109\u001B[0m         response,\n\u001B[0;32m    110\u001B[0m         \u001B[38;5;124m\"\u001B[39m\u001B[38;5;124mRequest failed with status code\u001B[39m\u001B[38;5;124m\"\u001B[39m,\n\u001B[0;32m    111\u001B[0m         status_code,\n\u001B[0;32m    112\u001B[0m         \u001B[38;5;124m\"\u001B[39m\u001B[38;5;124mExpected one of\u001B[39m\u001B[38;5;124m\"\u001B[39m,\n\u001B[0;32m    113\u001B[0m         \u001B[38;5;241m*\u001B[39mstatus_codes\n\u001B[0;32m    114\u001B[0m     )\n\u001B[0;32m    115\u001B[0m \u001B[38;5;28;01mreturn\u001B[39;00m status_code\n",
      "\u001B[1;31mInvalidResponse\u001B[0m: ('Request failed with status code', 403, 'Expected one of', <HTTPStatus.OK: 200>, <HTTPStatus.PARTIAL_CONTENT: 206>)",
      "\nDuring handling of the above exception, another exception occurred:\n",
      "\u001B[1;31mForbidden\u001B[0m                                 Traceback (most recent call last)",
      "Cell \u001B[1;32mIn[29], line 1\u001B[0m\n\u001B[1;32m----> 1\u001B[0m \u001B[43mblob\u001B[49m\u001B[38;5;241;43m.\u001B[39;49m\u001B[43mdownload_as_string\u001B[49m\u001B[43m(\u001B[49m\u001B[43m)\u001B[49m\u001B[38;5;241m.\u001B[39mdecode(\u001B[38;5;124m\"\u001B[39m\u001B[38;5;124mutf-8\u001B[39m\u001B[38;5;124m\"\u001B[39m)\n",
      "File \u001B[1;32m~\\anaconda3\\envs\\ReviewAnalysis\\lib\\site-packages\\google\\cloud\\storage\\blob.py:1518\u001B[0m, in \u001B[0;36mBlob.download_as_string\u001B[1;34m(self, client, start, end, raw_download, if_etag_match, if_etag_not_match, if_generation_match, if_generation_not_match, if_metageneration_match, if_metageneration_not_match, timeout, retry)\u001B[0m\n\u001B[0;32m   1436\u001B[0m \u001B[38;5;250m\u001B[39m\u001B[38;5;124;03m\"\"\"(Deprecated) Download the contents of this blob as a bytes object.\u001B[39;00m\n\u001B[0;32m   1437\u001B[0m \n\u001B[0;32m   1438\u001B[0m \u001B[38;5;124;03mIf :attr:`user_project` is set on the bucket, bills the API request\u001B[39;00m\n\u001B[1;32m   (...)\u001B[0m\n\u001B[0;32m   1513\u001B[0m \u001B[38;5;124;03m:raises: :class:`google.cloud.exceptions.NotFound`\u001B[39;00m\n\u001B[0;32m   1514\u001B[0m \u001B[38;5;124;03m\"\"\"\u001B[39;00m\n\u001B[0;32m   1515\u001B[0m warnings\u001B[38;5;241m.\u001B[39mwarn(\n\u001B[0;32m   1516\u001B[0m     _DOWNLOAD_AS_STRING_DEPRECATED, \u001B[38;5;167;01mPendingDeprecationWarning\u001B[39;00m, stacklevel\u001B[38;5;241m=\u001B[39m\u001B[38;5;241m2\u001B[39m\n\u001B[0;32m   1517\u001B[0m )\n\u001B[1;32m-> 1518\u001B[0m \u001B[38;5;28;01mreturn\u001B[39;00m \u001B[38;5;28;43mself\u001B[39;49m\u001B[38;5;241;43m.\u001B[39;49m\u001B[43mdownload_as_bytes\u001B[49m\u001B[43m(\u001B[49m\n\u001B[0;32m   1519\u001B[0m \u001B[43m    \u001B[49m\u001B[43mclient\u001B[49m\u001B[38;5;241;43m=\u001B[39;49m\u001B[43mclient\u001B[49m\u001B[43m,\u001B[49m\n\u001B[0;32m   1520\u001B[0m \u001B[43m    \u001B[49m\u001B[43mstart\u001B[49m\u001B[38;5;241;43m=\u001B[39;49m\u001B[43mstart\u001B[49m\u001B[43m,\u001B[49m\n\u001B[0;32m   1521\u001B[0m \u001B[43m    \u001B[49m\u001B[43mend\u001B[49m\u001B[38;5;241;43m=\u001B[39;49m\u001B[43mend\u001B[49m\u001B[43m,\u001B[49m\n\u001B[0;32m   1522\u001B[0m \u001B[43m    \u001B[49m\u001B[43mraw_download\u001B[49m\u001B[38;5;241;43m=\u001B[39;49m\u001B[43mraw_download\u001B[49m\u001B[43m,\u001B[49m\n\u001B[0;32m   1523\u001B[0m \u001B[43m    \u001B[49m\u001B[43mif_etag_match\u001B[49m\u001B[38;5;241;43m=\u001B[39;49m\u001B[43mif_etag_match\u001B[49m\u001B[43m,\u001B[49m\n\u001B[0;32m   1524\u001B[0m \u001B[43m    \u001B[49m\u001B[43mif_etag_not_match\u001B[49m\u001B[38;5;241;43m=\u001B[39;49m\u001B[43mif_etag_not_match\u001B[49m\u001B[43m,\u001B[49m\n\u001B[0;32m   1525\u001B[0m \u001B[43m    \u001B[49m\u001B[43mif_generation_match\u001B[49m\u001B[38;5;241;43m=\u001B[39;49m\u001B[43mif_generation_match\u001B[49m\u001B[43m,\u001B[49m\n\u001B[0;32m   1526\u001B[0m \u001B[43m    \u001B[49m\u001B[43mif_generation_not_match\u001B[49m\u001B[38;5;241;43m=\u001B[39;49m\u001B[43mif_generation_not_match\u001B[49m\u001B[43m,\u001B[49m\n\u001B[0;32m   1527\u001B[0m \u001B[43m    \u001B[49m\u001B[43mif_metageneration_match\u001B[49m\u001B[38;5;241;43m=\u001B[39;49m\u001B[43mif_metageneration_match\u001B[49m\u001B[43m,\u001B[49m\n\u001B[0;32m   1528\u001B[0m \u001B[43m    \u001B[49m\u001B[43mif_metageneration_not_match\u001B[49m\u001B[38;5;241;43m=\u001B[39;49m\u001B[43mif_metageneration_not_match\u001B[49m\u001B[43m,\u001B[49m\n\u001B[0;32m   1529\u001B[0m \u001B[43m    \u001B[49m\u001B[43mtimeout\u001B[49m\u001B[38;5;241;43m=\u001B[39;49m\u001B[43mtimeout\u001B[49m\u001B[43m,\u001B[49m\n\u001B[0;32m   1530\u001B[0m \u001B[43m    \u001B[49m\u001B[43mretry\u001B[49m\u001B[38;5;241;43m=\u001B[39;49m\u001B[43mretry\u001B[49m\u001B[43m,\u001B[49m\n\u001B[0;32m   1531\u001B[0m \u001B[43m\u001B[49m\u001B[43m)\u001B[49m\n",
      "File \u001B[1;32m~\\anaconda3\\envs\\ReviewAnalysis\\lib\\site-packages\\google\\cloud\\storage\\blob.py:1403\u001B[0m, in \u001B[0;36mBlob.download_as_bytes\u001B[1;34m(self, client, start, end, raw_download, if_etag_match, if_etag_not_match, if_generation_match, if_generation_not_match, if_metageneration_match, if_metageneration_not_match, timeout, checksum, retry)\u001B[0m\n\u001B[0;32m   1313\u001B[0m \u001B[38;5;250m\u001B[39m\u001B[38;5;124;03m\"\"\"Download the contents of this blob as a bytes object.\u001B[39;00m\n\u001B[0;32m   1314\u001B[0m \n\u001B[0;32m   1315\u001B[0m \u001B[38;5;124;03mIf :attr:`user_project` is set on the bucket, bills the API request\u001B[39;00m\n\u001B[1;32m   (...)\u001B[0m\n\u001B[0;32m   1398\u001B[0m \u001B[38;5;124;03m:raises: :class:`google.cloud.exceptions.NotFound`\u001B[39;00m\n\u001B[0;32m   1399\u001B[0m \u001B[38;5;124;03m\"\"\"\u001B[39;00m\n\u001B[0;32m   1401\u001B[0m string_buffer \u001B[38;5;241m=\u001B[39m BytesIO()\n\u001B[1;32m-> 1403\u001B[0m \u001B[38;5;28;43mself\u001B[39;49m\u001B[38;5;241;43m.\u001B[39;49m\u001B[43m_prep_and_do_download\u001B[49m\u001B[43m(\u001B[49m\n\u001B[0;32m   1404\u001B[0m \u001B[43m    \u001B[49m\u001B[43mstring_buffer\u001B[49m\u001B[43m,\u001B[49m\n\u001B[0;32m   1405\u001B[0m \u001B[43m    \u001B[49m\u001B[43mclient\u001B[49m\u001B[38;5;241;43m=\u001B[39;49m\u001B[43mclient\u001B[49m\u001B[43m,\u001B[49m\n\u001B[0;32m   1406\u001B[0m \u001B[43m    \u001B[49m\u001B[43mstart\u001B[49m\u001B[38;5;241;43m=\u001B[39;49m\u001B[43mstart\u001B[49m\u001B[43m,\u001B[49m\n\u001B[0;32m   1407\u001B[0m \u001B[43m    \u001B[49m\u001B[43mend\u001B[49m\u001B[38;5;241;43m=\u001B[39;49m\u001B[43mend\u001B[49m\u001B[43m,\u001B[49m\n\u001B[0;32m   1408\u001B[0m \u001B[43m    \u001B[49m\u001B[43mraw_download\u001B[49m\u001B[38;5;241;43m=\u001B[39;49m\u001B[43mraw_download\u001B[49m\u001B[43m,\u001B[49m\n\u001B[0;32m   1409\u001B[0m \u001B[43m    \u001B[49m\u001B[43mif_etag_match\u001B[49m\u001B[38;5;241;43m=\u001B[39;49m\u001B[43mif_etag_match\u001B[49m\u001B[43m,\u001B[49m\n\u001B[0;32m   1410\u001B[0m \u001B[43m    \u001B[49m\u001B[43mif_etag_not_match\u001B[49m\u001B[38;5;241;43m=\u001B[39;49m\u001B[43mif_etag_not_match\u001B[49m\u001B[43m,\u001B[49m\n\u001B[0;32m   1411\u001B[0m \u001B[43m    \u001B[49m\u001B[43mif_generation_match\u001B[49m\u001B[38;5;241;43m=\u001B[39;49m\u001B[43mif_generation_match\u001B[49m\u001B[43m,\u001B[49m\n\u001B[0;32m   1412\u001B[0m \u001B[43m    \u001B[49m\u001B[43mif_generation_not_match\u001B[49m\u001B[38;5;241;43m=\u001B[39;49m\u001B[43mif_generation_not_match\u001B[49m\u001B[43m,\u001B[49m\n\u001B[0;32m   1413\u001B[0m \u001B[43m    \u001B[49m\u001B[43mif_metageneration_match\u001B[49m\u001B[38;5;241;43m=\u001B[39;49m\u001B[43mif_metageneration_match\u001B[49m\u001B[43m,\u001B[49m\n\u001B[0;32m   1414\u001B[0m \u001B[43m    \u001B[49m\u001B[43mif_metageneration_not_match\u001B[49m\u001B[38;5;241;43m=\u001B[39;49m\u001B[43mif_metageneration_not_match\u001B[49m\u001B[43m,\u001B[49m\n\u001B[0;32m   1415\u001B[0m \u001B[43m    \u001B[49m\u001B[43mtimeout\u001B[49m\u001B[38;5;241;43m=\u001B[39;49m\u001B[43mtimeout\u001B[49m\u001B[43m,\u001B[49m\n\u001B[0;32m   1416\u001B[0m \u001B[43m    \u001B[49m\u001B[43mchecksum\u001B[49m\u001B[38;5;241;43m=\u001B[39;49m\u001B[43mchecksum\u001B[49m\u001B[43m,\u001B[49m\n\u001B[0;32m   1417\u001B[0m \u001B[43m    \u001B[49m\u001B[43mretry\u001B[49m\u001B[38;5;241;43m=\u001B[39;49m\u001B[43mretry\u001B[49m\u001B[43m,\u001B[49m\n\u001B[0;32m   1418\u001B[0m \u001B[43m\u001B[49m\u001B[43m)\u001B[49m\n\u001B[0;32m   1419\u001B[0m \u001B[38;5;28;01mreturn\u001B[39;00m string_buffer\u001B[38;5;241m.\u001B[39mgetvalue()\n",
      "File \u001B[1;32m~\\anaconda3\\envs\\ReviewAnalysis\\lib\\site-packages\\google\\cloud\\storage\\blob.py:4342\u001B[0m, in \u001B[0;36mBlob._prep_and_do_download\u001B[1;34m(self, file_obj, client, start, end, raw_download, if_etag_match, if_etag_not_match, if_generation_match, if_generation_not_match, if_metageneration_match, if_metageneration_not_match, timeout, checksum, retry, command)\u001B[0m\n\u001B[0;32m   4329\u001B[0m     \u001B[38;5;28mself\u001B[39m\u001B[38;5;241m.\u001B[39m_do_download(\n\u001B[0;32m   4330\u001B[0m         transport,\n\u001B[0;32m   4331\u001B[0m         file_obj,\n\u001B[1;32m   (...)\u001B[0m\n\u001B[0;32m   4339\u001B[0m         retry\u001B[38;5;241m=\u001B[39mretry,\n\u001B[0;32m   4340\u001B[0m     )\n\u001B[0;32m   4341\u001B[0m \u001B[38;5;28;01mexcept\u001B[39;00m resumable_media\u001B[38;5;241m.\u001B[39mInvalidResponse \u001B[38;5;28;01mas\u001B[39;00m exc:\n\u001B[1;32m-> 4342\u001B[0m     \u001B[43m_raise_from_invalid_response\u001B[49m\u001B[43m(\u001B[49m\u001B[43mexc\u001B[49m\u001B[43m)\u001B[49m\n",
      "File \u001B[1;32m~\\anaconda3\\envs\\ReviewAnalysis\\lib\\site-packages\\google\\cloud\\storage\\blob.py:4778\u001B[0m, in \u001B[0;36m_raise_from_invalid_response\u001B[1;34m(error)\u001B[0m\n\u001B[0;32m   4774\u001B[0m     error_message \u001B[38;5;241m=\u001B[39m \u001B[38;5;28mstr\u001B[39m(error)\n\u001B[0;32m   4776\u001B[0m message \u001B[38;5;241m=\u001B[39m \u001B[38;5;124mf\u001B[39m\u001B[38;5;124m\"\u001B[39m\u001B[38;5;132;01m{\u001B[39;00mresponse\u001B[38;5;241m.\u001B[39mrequest\u001B[38;5;241m.\u001B[39mmethod\u001B[38;5;132;01m}\u001B[39;00m\u001B[38;5;124m \u001B[39m\u001B[38;5;132;01m{\u001B[39;00mresponse\u001B[38;5;241m.\u001B[39mrequest\u001B[38;5;241m.\u001B[39murl\u001B[38;5;132;01m}\u001B[39;00m\u001B[38;5;124m: \u001B[39m\u001B[38;5;132;01m{\u001B[39;00merror_message\u001B[38;5;132;01m}\u001B[39;00m\u001B[38;5;124m\"\u001B[39m\n\u001B[1;32m-> 4778\u001B[0m \u001B[38;5;28;01mraise\u001B[39;00m exceptions\u001B[38;5;241m.\u001B[39mfrom_http_status(response\u001B[38;5;241m.\u001B[39mstatus_code, message, response\u001B[38;5;241m=\u001B[39mresponse)\n",
      "\u001B[1;31mForbidden\u001B[0m: 403 GET https://storage.googleapis.com/download/storage/v1/b/easy-cv-bucket/o/user%2FShresht_Shetty%2Fuser_professional_information.txt?alt=media: The billing account for the owning project is disabled in state absent: ('Request failed with status code', 403, 'Expected one of', <HTTPStatus.OK: 200>, <HTTPStatus.PARTIAL_CONTENT: 206>)"
     ]
    }
   ],
   "source": [
    "blob.download_as_string().decode(\"utf-8\")"
   ],
   "metadata": {
    "collapsed": false,
    "ExecuteTime": {
     "end_time": "2023-11-05T07:20:36.626984800Z",
     "start_time": "2023-11-05T07:20:36.403018100Z"
    }
   },
   "id": "b84e24f6a04dc279"
  },
  {
   "cell_type": "code",
   "execution_count": null,
   "outputs": [],
   "source": [],
   "metadata": {
    "collapsed": false
   },
   "id": "2d58660898cae84e"
  }
 ],
 "metadata": {
  "kernelspec": {
   "name": "reviewanalysis",
   "language": "python",
   "display_name": "ReviewAnalysis"
  },
  "language_info": {
   "codemirror_mode": {
    "name": "ipython",
    "version": 2
   },
   "file_extension": ".py",
   "mimetype": "text/x-python",
   "name": "python",
   "nbconvert_exporter": "python",
   "pygments_lexer": "ipython2",
   "version": "2.7.6"
  }
 },
 "nbformat": 4,
 "nbformat_minor": 5
}
