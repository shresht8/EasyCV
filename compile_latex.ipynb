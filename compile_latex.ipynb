{
 "cells": [
  {
   "cell_type": "code",
   "execution_count": 1,
   "id": "initial_id",
   "metadata": {
    "collapsed": true,
    "ExecuteTime": {
     "end_time": "2023-10-10T23:57:23.679215900Z",
     "start_time": "2023-10-10T23:57:23.666217400Z"
    }
   },
   "outputs": [],
   "source": [
    "import os\n",
    "import subprocess"
   ]
  },
  {
   "cell_type": "code",
   "execution_count": 12,
   "outputs": [],
   "source": [
    "# from PROMPT_FILE import LATEX_CODE\n",
    "# with open('main.tex', 'w') as tex_file:\n",
    "#     tex_file.write(LATEX_CODE)"
   ],
   "metadata": {
    "collapsed": false,
    "ExecuteTime": {
     "end_time": "2023-10-09T09:22:51.345860Z",
     "start_time": "2023-10-09T09:22:51.337861900Z"
    }
   },
   "id": "8fa60c68592dbc84"
  },
  {
   "cell_type": "code",
   "execution_count": 4,
   "outputs": [
    {
     "name": "stdout",
     "output_type": "stream",
     "text": [
      "Compilation successful.\n"
     ]
    }
   ],
   "source": [
    "import subprocess\n",
    "\n",
    "# LaTeX source file\n",
    "latex_file = 'main.tex'\n",
    "\n",
    "# Run pdflatex\n",
    "result = subprocess.run(['pdflatex', latex_file], stdout=subprocess.PIPE, stderr=subprocess.PIPE, text=True)\n",
    "\n",
    "# Check for errors\n",
    "if result.returncode == 0:\n",
    "    print(\"Compilation successful.\")\n",
    "else:\n",
    "    print(\"Compilation failed. Error output:\")\n",
    "    print(result.stderr)\n"
   ],
   "metadata": {
    "collapsed": false,
    "ExecuteTime": {
     "end_time": "2023-10-11T01:10:30.777307100Z",
     "start_time": "2023-10-11T01:10:28.684901Z"
    }
   },
   "id": "52ba2c3e0f6c8128"
  },
  {
   "cell_type": "code",
   "execution_count": 6,
   "outputs": [],
   "source": [
    "import nltk\n",
    "from nltk.tokenize import word_tokenize"
   ],
   "metadata": {
    "collapsed": false,
    "ExecuteTime": {
     "end_time": "2023-10-11T05:49:49.918259600Z",
     "start_time": "2023-10-11T05:49:48.120006900Z"
    }
   },
   "id": "f06f2119ed8a51e3"
  },
  {
   "cell_type": "code",
   "execution_count": 7,
   "outputs": [
    {
     "name": "stdout",
     "output_type": "stream",
     "text": [
      "Number of tokens in the text: 905\n"
     ]
    },
    {
     "name": "stderr",
     "output_type": "stream",
     "text": [
      "[nltk_data] Downloading package punkt to\n",
      "[nltk_data]     C:\\Users\\shres\\AppData\\Roaming\\nltk_data...\n",
      "[nltk_data]   Package punkt is already up-to-date!\n"
     ]
    }
   ],
   "source": [
    "# Open the text document for reading\n",
    "with open('Shresht_Professional_Information.txt', 'r', encoding='utf-8') as file:\n",
    "    text = file.read()\n",
    "\n",
    "# Download NLTK data (if not already downloaded)\n",
    "nltk.download('punkt')\n",
    "\n",
    "# Tokenize the text\n",
    "tokens = word_tokenize(text)\n",
    "\n",
    "# Count the number of tokens\n",
    "num_tokens = len(tokens)\n",
    "\n",
    "print(f\"Number of tokens in the text: {num_tokens}\")\n"
   ],
   "metadata": {
    "collapsed": false,
    "ExecuteTime": {
     "end_time": "2023-10-11T05:56:08.505159400Z",
     "start_time": "2023-10-11T05:56:08.041869300Z"
    }
   },
   "id": "a14508dcab54f40e"
  },
  {
   "cell_type": "code",
   "execution_count": 8,
   "outputs": [
    {
     "name": "stdout",
     "output_type": "stream",
     "text": [
      "Number of tokens in the text: 1361\n"
     ]
    }
   ],
   "source": [
    "with open('Canva_Job_Description.txt', 'r', encoding='utf-8') as file:\n",
    "    job_desc_str = file.read()\n",
    "# Tokenize the text\n",
    "tokens = word_tokenize(text)\n",
    "# Count the number of tokens\n",
    "num_tokens = len(tokens)\n",
    "print(f\"Number of tokens in the text: {num_tokens}\")"
   ],
   "metadata": {
    "collapsed": false,
    "ExecuteTime": {
     "end_time": "2023-10-11T05:57:33.310562800Z",
     "start_time": "2023-10-11T05:57:33.230576900Z"
    }
   },
   "id": "1454b7c67d8a080e"
  },
  {
   "cell_type": "code",
   "execution_count": 9,
   "outputs": [
    {
     "name": "stdout",
     "output_type": "stream",
     "text": [
      "Number of tokens in the text: 415\n"
     ]
    }
   ],
   "source": [
    "from PROMPT_FILE import LATEX_PROMPT\n",
    "# Tokenize the text\n",
    "tokens = word_tokenize(LATEX_PROMPT)\n",
    "# Count the number of tokens\n",
    "num_tokens = len(tokens)\n",
    "print(f\"Number of tokens in the text: {num_tokens}\")"
   ],
   "metadata": {
    "collapsed": false,
    "ExecuteTime": {
     "end_time": "2023-10-11T06:00:51.694915600Z",
     "start_time": "2023-10-11T06:00:51.617224800Z"
    }
   },
   "id": "21d573ec6c5167b0"
  },
  {
   "cell_type": "code",
   "execution_count": 10,
   "outputs": [
    {
     "name": "stdout",
     "output_type": "stream",
     "text": [
      "Number of tokens in the text: 1040\n"
     ]
    }
   ],
   "source": [
    "from PROMPT_FILE import LATEX_CODE\n",
    "# Tokenize the text\n",
    "tokens = word_tokenize(LATEX_CODE)\n",
    "# Count the number of tokens\n",
    "num_tokens = len(tokens)\n",
    "print(f\"Number of tokens in the text: {num_tokens}\")"
   ],
   "metadata": {
    "collapsed": false,
    "ExecuteTime": {
     "end_time": "2023-10-11T06:01:39.591069900Z",
     "start_time": "2023-10-11T06:01:39.530071600Z"
    }
   },
   "id": "2f7002ab226e9f9a"
  },
  {
   "cell_type": "code",
   "execution_count": null,
   "outputs": [],
   "source": [],
   "metadata": {
    "collapsed": false
   },
   "id": "1f8d78f54ea8362b"
  }
 ],
 "metadata": {
  "kernelspec": {
   "name": "reviewanalysis",
   "language": "python",
   "display_name": "ReviewAnalysis"
  },
  "language_info": {
   "codemirror_mode": {
    "name": "ipython",
    "version": 2
   },
   "file_extension": ".py",
   "mimetype": "text/x-python",
   "name": "python",
   "nbconvert_exporter": "python",
   "pygments_lexer": "ipython2",
   "version": "2.7.6"
  }
 },
 "nbformat": 4,
 "nbformat_minor": 5
}
